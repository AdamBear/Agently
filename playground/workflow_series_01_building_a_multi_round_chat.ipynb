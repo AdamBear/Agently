{
  "nbformat": 4,
  "nbformat_minor": 0,
  "metadata": {
    "colab": {
      "provenance": [],
      "include_colab_link": true
    },
    "kernelspec": {
      "name": "python3",
      "display_name": "Python 3"
    },
    "language_info": {
      "name": "python"
    }
  },
  "cells": [
    {
      "cell_type": "markdown",
      "metadata": {
        "id": "view-in-github",
        "colab_type": "text"
      },
      "source": [
        "<a href=\"https://colab.research.google.com/github/Maplemx/Agently/blob/main/playground/workflow_series_01_building_a_multi_round_chat.ipynb\" target=\"_parent\"><img src=\"https://colab.research.google.com/assets/colab-badge.svg\" alt=\"Open In Colab\"/></a>"
      ]
    },
    {
      "cell_type": "markdown",
      "source": [
        "# Let's Get Started by Building a Multi-Round Chat with Agently Workflow! `#Agently_Workflow_Showcase_Series - 01`"
      ],
      "metadata": {
        "id": "dAzfqHDCAXZe"
      }
    },
    {
      "cell_type": "markdown",
      "source": [
        "## Demo Description\n",
        "\n",
        "**Author:** Agently Team\n",
        "\n",
        "**Description:**\n",
        "\n",
        "We're glad to introduce a brand new feature of **_<font color = \"red\">Agent</font><font color = \"blue\">ly</font>_** v3.2 to you all: **`Agently Workflow`**!\n",
        "\n",
        "With this new feature, you can arrange and manage your LLMs based application workflow **in just 3 steps, simple and easy:**\n",
        "\n",
        "1. Define and program your application logic into different `workflow chunks`;\n",
        "2. Connect chunks using `chunk.connect_to()` in orders; (Loop and condition judugment supported)\n",
        "3. Start the workflow using `workflow.startup()`.\n",
        "\n",
        "This showcase is the first one of the **`Agently Workflow Showcase Series`**, more showcases will coming soon.\n",
        "\n",
        "In this case, we will show you how to use **`Agently Workflow`** to create a multi-round chat workflow:\n",
        "\n",
        "我们非常高兴能够向您介绍**_<font color = \"red\">Agent</font><font color = \"blue\">ly</font>_** v3.2版本推出的全新功能：**`Agently Workflow`**！\n",
        "\n",
        "使用这项全新的功能，只需要一二三步走，您就能够轻松惬意地编排管理您的语言模型应用工作流了：\n",
        "\n",
        "1. 在`workflow chunks`切块中编写您的应用工作流中的单块工作逻辑（如输入、判断、请求执行、数据存取等）；\n",
        "2. 使用`chunk.connect_to()`方法将切块按您想要的工作顺序进行连接（支持环状连接、条件分支等复杂连接关系）；\n",
        "3. 通过`workflow.startup()`开始运行工作流。\n",
        "\n",
        "本案例是**`Agently Workflow系列案例`**的第一个案例，后续我们还将更新更多相关案例。\n",
        "\n",
        "在本案例中，我们将向您演示如何使用**Agently Workflow**功能创建一个多轮对话的工作流："
      ],
      "metadata": {
        "id": "kyLFmv_l-aIx"
      }
    },
    {
      "cell_type": "markdown",
      "source": [
        "## Step 1: Install Packages"
      ],
      "metadata": {
        "id": "nRsfMu4lAJZF"
      }
    },
    {
      "cell_type": "code",
      "source": [
        "!pip install -U Agently>=3.2"
      ],
      "metadata": {
        "id": "nsst7pOAANlr"
      },
      "execution_count": null,
      "outputs": []
    },
    {
      "cell_type": "markdown",
      "source": [
        "> ℹ️ Agently Workflow is a new feature in version >= `3.2.0`"
      ],
      "metadata": {
        "id": "diFJhvd3ORd1"
      }
    },
    {
      "cell_type": "markdown",
      "source": [
        "## Step 2: Create a Multi-Round Chat Workflow in the Basic Way"
      ],
      "metadata": {
        "id": "_-1gryYwASPM"
      }
    },
    {
      "cell_type": "code",
      "execution_count": null,
      "metadata": {
        "colab": {
          "base_uri": "https://localhost:8080/"
        },
        "id": "lLaK-w-E-ZKU",
        "outputId": "e4aab9eb-6a06-40d9-c7b3-8069ccf86f36"
      },
      "outputs": [
        {
          "output_type": "stream",
          "name": "stdout",
          "text": [
            "[User]: Hello\n",
            "[Assistant]:  Hello there! How can I assist you today?\n",
            "[User]: Tell me one tip about Python programing\n",
            "[Assistant]:  **Tip:** Use a debugger to step through your code line by line and identify errors or unexpected behavior. This can save a lot of time compared to printing statements or using logging to debug.\n",
            "[User]: Tell me one tip about Node.js programing\n",
            "[Assistant]:  **Tip:** Leverage the Node.js event loop to handle asynchronous operations efficiently. The event loop allows Node.js to perform non-blocking I/O operations, making it well-suited for building scalable and responsive applications.\n",
            "[User]: Tell me one tip about using Gemini Pro\n",
            "[Assistant]:  **Tip:** Utilize the Gemini Pro API to automate your trading strategies and access real-time market data. The API provides a comprehensive set of endpoints that allow you to interact with the exchange, place orders, manage positions, and retrieve market information.\n",
            "[User]: What did you just talk about?\n",
            "[Assistant]:  I just provided a tip on using Gemini Pro, a cryptocurrency exchange. I suggested leveraging the Gemini Pro API to automate trading strategies and access real-time market data. The API offers a range of endpoints for interacting with the exchange, placing orders, managing positions, and retrieving market information.\n"
          ]
        }
      ],
      "source": [
        "import Agently\n",
        "import logging\n",
        "\n",
        "agent_factory = (\n",
        "        Agently.AgentFactory()\n",
        "        .set_settings(\"model.Google.auth.api_key\", \"\")\n",
        "        .set_settings(\"current_model\", \"Google\")\n",
        ")\n",
        "\n",
        "# Step 0. Create Workflow Instance and Agent Instance\n",
        "workflow = Agently.Workflow()\n",
        "workflow.executor.settings.update({ \"logger_level\": logging.WARNING })\n",
        "agent = agent_factory.create_agent()\n",
        "\n",
        "# Step 1. Create Chunks\n",
        "## Start Chunk\n",
        "start_chunk = workflow.schema.create_chunk(\n",
        "    title = \"Multi-Round Chat\",\n",
        "    type = \"Start\"\n",
        ")\n",
        "\n",
        "## User Input Chunk\n",
        "user_input_chunk = workflow.schema.create_chunk(\n",
        "    title = \"User Input\",\n",
        "    handles = {\n",
        "        \"inputs\": [{ \"handle\": \"nothing\" }],\n",
        "        \"outputs\": [{ \"handle\": \"user_input\" }],\n",
        "    },\n",
        "    executor = lambda inputs_pkg, store: {\n",
        "        \"user_input\": input(\"[User]: \")#<- You can change it to an API/WS request\n",
        "    },# You can use a lambda function as an executor\n",
        ")\n",
        "\n",
        "## Assistant Reply Chunk\n",
        "# You can also define an normal executor function to handle more complex logic\n",
        "# get data from input handles by `input_pkg[\"<handle name>\"]`\n",
        "# get data from cache storage by `store.get(\"<key>\")`\n",
        "# save data to cache storage by `store.save(\"<key>\", <value>)`\n",
        "def assistant_reply_executor(inputs_pkg, store):\n",
        "    chat_history = store.get(\"chat_history\") or []\n",
        "    reply = (\n",
        "        agent\n",
        "            .chat_history(chat_history)\n",
        "            .input(inputs_pkg[\"user_input\"])\n",
        "            .start()\n",
        "    )\n",
        "    print(\"[Assistant]: \", reply)\n",
        "    chat_history.append({ \"role\": \"user\", \"content\": inputs_pkg[\"user_input\"] })\n",
        "    chat_history.append({ \"role\": \"assistant\", \"content\": reply })\n",
        "    store.save(\"chat_history\", chat_history)\n",
        "    return\n",
        "assistant_reply_chunk = workflow.schema.create_chunk(\n",
        "    title = \"Assistant Reply\",\n",
        "    handles = {\n",
        "        \"inputs\": [{ \"handle\": \"user_input\" }],\n",
        "        \"outputs\": [{ \"handle\": \"nothing\" }],\n",
        "    },\n",
        "    executor = assistant_reply_executor,\n",
        ")\n",
        "\n",
        "# Step 2. Connect Chunks in Orders\n",
        "start_chunk.connect_to(user_input_chunk)\n",
        "user_input_chunk.connect_to(assistant_reply_chunk)\n",
        "## Created a loop by connect tail chunk to head chunk\n",
        "assistant_reply_chunk.connect_to(user_input_chunk)\n",
        "\n",
        "# Step 3. Startup Workflow\n",
        "workflow.startup()"
      ]
    },
    {
      "cell_type": "markdown",
      "source": [
        "---\n",
        "\n",
        "[**_<font color = \"red\">Agent</font><font color = \"blue\">ly</font>_** Framework - Speed up your AI Agent Native application development](https://github.com/Maplemx/Agently)"
      ],
      "metadata": {
        "id": "IT3pSaO2NgkG"
      }
    }
  ]
}