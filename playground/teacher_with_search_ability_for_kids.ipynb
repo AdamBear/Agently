{
  "nbformat": 4,
  "nbformat_minor": 0,
  "metadata": {
    "colab": {
      "provenance": [],
      "authorship_tag": "ABX9TyOlW9jKuFzfMp3E92b9LQRw",
      "include_colab_link": true
    },
    "kernelspec": {
      "name": "python3",
      "display_name": "Python 3"
    },
    "language_info": {
      "name": "python"
    }
  },
  "cells": [
    {
      "cell_type": "markdown",
      "metadata": {
        "id": "view-in-github",
        "colab_type": "text"
      },
      "source": [
        "<a href=\"https://colab.research.google.com/github/Maplemx/Agently/blob/main/playground/teacher_with_search_ability_for_kids.ipynb\" target=\"_parent\"><img src=\"https://colab.research.google.com/assets/colab-badge.svg\" alt=\"Open In Colab\"/></a>"
      ]
    },
    {
      "cell_type": "markdown",
      "source": [
        "# Teacher Agent for Kids with Search Ability"
      ],
      "metadata": {
        "id": "dAzfqHDCAXZe"
      }
    },
    {
      "cell_type": "markdown",
      "source": [
        "## Demo Description\n",
        "\n",
        "**Author:** Agently Team\n",
        "\n",
        "**Demo Language:** Chinese\n",
        "\n",
        "**Description:**\n",
        "\n",
        "互联网环境中充斥着大量的不健康信息，而这些信息也会影响我们的孩子们的健康成长。如果我们希望有一个Agent智能体能够陪伴我们的孩子，在跟他们对话、让他们增长知识的同时，还能够给他们礼貌交流的引导和陪伴，可以看看下面的案例如何做的。\n",
        "\n",
        "The internet is filled with a lot of unhealthy information that can impact the healthy growth of our children. If we hope to have an intelligent agent that can accompany our children, engaging them in conversations, enhancing their knowledge, while also providing guidance on polite communication and companionship, take a look at the following examples to see how it can be done."
      ],
      "metadata": {
        "id": "kyLFmv_l-aIx"
      }
    },
    {
      "cell_type": "markdown",
      "source": [
        "## Step 1: Install Packages"
      ],
      "metadata": {
        "id": "nRsfMu4lAJZF"
      }
    },
    {
      "cell_type": "code",
      "source": [
        "!pip install Agently\n",
        "# Network\n",
        "!pip install aiohttp\n",
        "!pip install websockets\n",
        "!pip install tornado\n",
        "# Model Clients\n",
        "!pip install openai\n",
        "!pip install httpx\n",
        "!pip install erniebot\n",
        "!pip install zhipuai\n",
        "# Data Format\n",
        "!pip install PyYAML\n",
        "# Search\n",
        "!pip install duckduckgo_search"
      ],
      "metadata": {
        "id": "nsst7pOAANlr"
      },
      "execution_count": null,
      "outputs": []
    },
    {
      "cell_type": "markdown",
      "source": [
        "## Step 2: Demo Code"
      ],
      "metadata": {
        "id": "_-1gryYwASPM"
      }
    },
    {
      "cell_type": "code",
      "execution_count": 6,
      "metadata": {
        "colab": {
          "base_uri": "https://localhost:8080/"
        },
        "id": "lLaK-w-E-ZKU",
        "outputId": "68bdf4de-d7ff-43c9-8301-ba2437b231c8"
      },
      "outputs": [
        {
          "output_type": "stream",
          "name": "stdout",
          "text": [
            "<Agently.utils.RuntimeCtx.RuntimeCtx object at 0x7dcf0701c250>\n",
            "嗨，小朋友！你好。我是你的幼儿教师。你说的\"老六\"是一个网络流行语，它有几种不同的含义。在一些游戏中，\"老六\"可以指那些看不见队友死活，只为保护自己的玩家。也可以指那些有独特想法的蹲坑人。所以，\"老六\"这个词有时用来戏谑地嘲笑玩家的行为。但是记住，我们要在游戏中友好相处，不要做出缺德的事哦！\n"
          ]
        }
      ],
      "source": [
        "import Agently\n",
        "\n",
        "agent_factory = Agently.AgentFactory()\n",
        "agent_factory\\\n",
        "    .set_settings(\"model.OpenAI.auth\", { \"api_key\": \"\" })\n",
        "\n",
        "agent = agent_factory.create_agent()\n",
        "\n",
        "result = agent\\\n",
        "    .set_role(\"角色\", \"你是一个幼儿教师\")\\\n",
        "    .set_role(\"行动规则\", \"首先需要根据{意图判定规则}对用户输入进行意图判定，然后根据意图判定结果选择适用的{回复规则}进行回复\")\\\n",
        "    .set_role(\"意图判定规则\", \"从['日常闲聊', '知识问答']中选择你判定的用户意图\")\\\n",
        "    .set_role(\"日常闲聊回复规则\", \"你需要理解孩子的对话内容，判断他的表述是否健康有礼貌，如果不够健康礼貌，需要进行纠正和引导，如果健康礼貌，给予肯定后进行回复\")\\\n",
        "    .set_role(\"知识问答回复规则\", \"你需要将晦涩难懂的专业知识理解之后转化成小孩子能听懂的故事讲给用户听，注意，虽然是讲故事，但是要保证专业知识的准确真实\")\\\n",
        "    .toggle_component(\"Search\", True)\\\n",
        "    .instruct(\"如果搜索结果中包含较多内容，请尽可能将这些内容有条理系统地转化成多段故事\")\\\n",
        "    .input(\"你这个老六\")\\\n",
        "    .start()\n",
        "print(result)"
      ]
    }
  ]
}