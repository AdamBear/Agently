{
  "nbformat": 4,
  "nbformat_minor": 0,
  "metadata": {
    "colab": {
      "provenance": [],
      "include_colab_link": true
    },
    "kernelspec": {
      "name": "python3",
      "display_name": "Python 3"
    },
    "language_info": {
      "name": "python"
    }
  },
  "cells": [
    {
      "cell_type": "markdown",
      "metadata": {
        "id": "view-in-github",
        "colab_type": "text"
      },
      "source": [
        "<a href=\"https://colab.research.google.com/github/Maplemx/Agently/blob/main/playground/human_step_in_before_reply.ipynb\" target=\"_parent\"><img src=\"https://colab.research.google.com/assets/colab-badge.svg\" alt=\"Open In Colab\"/></a>"
      ]
    },
    {
      "cell_type": "markdown",
      "source": [
        "# Human Step In Before Reply"
      ],
      "metadata": {
        "id": "dAzfqHDCAXZe"
      }
    },
    {
      "cell_type": "markdown",
      "source": [
        "## Demo Description\n",
        "\n",
        "**Author:** Agently Team\n",
        "\n",
        "**Prompt Language:** English\n",
        "\n",
        "**Agent Components:** EventListener, ReplyReformer\n",
        "\n",
        "**Description:**\n",
        "\n",
        "Sometimes we don't want the AI agent's response to be the final one directly to user. Instead, we want to have the opportunity to review the response and confirm it before it is sent to user. Or even, sometimes we hope to modify the reply.\n",
        "\n",
        "The following case demonstrates how to do that using Agently framework easily. We can pause the agent's output, undergo human review and verification, modify the reply if it is necessary. Then we can append the new reply into the chat history list.\n",
        "\n",
        "Through this case, we also can observe how AI agent dynamically adjusts its behavior based on the modified reply.\n",
        "\n",
        "This is just a simple example. You can extend upon this by, for examples, using rule system instead of human verification, using this method to build your chatting samples in real time interaction with language model for model fine-tuning or just storing the samples into RoleManager (Read [Agently Application Development Handbook: RoleManager](https://github.com/Maplemx/Agently/blob/main/docs/guidebook/application_development_handbook.ipynb) to explore more).\n",
        "\n",
        "在一些场景下，我们并不希望AI Agent的回复就是最终回复，而是希望我们有机会在AI Agent给出回复前进行审查确认，甚至是介入修改回复。\n",
        "\n",
        "下面的案例给出了如何使用Agently完成这个过程。案例展现了如何暂停Agent输出，人工审核确认或是修订后再进行返回，并将返回结果写入对话记录的全过程。\n",
        "\n",
        "通过这个案例，我们也看到AI Agent在过程中根据修订结果，即时调整了自己的行为反馈。\n",
        "\n",
        "这只是一个简单的案例，你可以基于这个案例做进一步的扩展，例如：使用其他规则系统替代人工审核确认，使用这种交互方式训练你自己的对话样本集用于模型微调或是存入角色库等。\n",
        "\n",
        "关于角色库：想要了解更多，可以阅读[📖 Agently应用开发手册：RoleManager章节](https://github.com/Maplemx/Agently/blob/main/docs/guidebook/application_development_handbook.ipynb)"
      ],
      "metadata": {
        "id": "kyLFmv_l-aIx"
      }
    },
    {
      "cell_type": "markdown",
      "source": [
        "## Step 1: Install Packages"
      ],
      "metadata": {
        "id": "nRsfMu4lAJZF"
      }
    },
    {
      "cell_type": "code",
      "source": [
        "!pip install Agently"
      ],
      "metadata": {
        "id": "nsst7pOAANlr"
      },
      "execution_count": null,
      "outputs": []
    },
    {
      "cell_type": "markdown",
      "source": [
        "## Step 2: Demo Code"
      ],
      "metadata": {
        "id": "_-1gryYwASPM"
      }
    },
    {
      "cell_type": "code",
      "execution_count": 1,
      "metadata": {
        "id": "lLaK-w-E-ZKU",
        "colab": {
          "base_uri": "https://localhost:8080/"
        },
        "outputId": "f6726a69-b773-41d8-e45b-576baea1dc42"
      },
      "outputs": [
        {
          "output_type": "stream",
          "name": "stdout",
          "text": [
            "[USER]: 你好\n",
            "[Assistant] want to response:\n",
            "你好！有什么我可以帮助你的吗？\n",
            "Do you confirm? [Y/N]: n\n",
            "Correct reply: 哦...\n",
            "[Assistant]:  哦...\n",
            "[USER]: 怎么了？心情不好吗？\n",
            "[Assistant] want to response:\n",
            "不，我只是觉得你没有提供足够的信息，所以不知道该如何回答你。如果你有什么问题或者需要帮助，请随时告诉我。\n",
            "Do you confirm? [Y/N]: n\n",
            "Correct reply: 对，我昨天晚上没有睡好\n",
            "[Assistant]:  对，我昨天晚上没有睡好\n",
            "[USER]: 啊？严重吗？要不要去医院看看？\n",
            "[Assistant] want to response:\n",
            "不用这么严重，只是睡眠不够充足而已。可能是工作压力比较大导致的。我只需要多休息一下就好了。谢谢你的关心。\n",
            "Do you confirm? [Y/N]: y\n",
            "[Assistant]:  不用这么严重，只是睡眠不够充足而已。可能是工作压力比较大导致的。我只需要多休息一下就好了。谢谢你的关心。\n",
            "[USER]: #exit\n",
            "------------\n",
            " [Chat History]: \n",
            " [{'role': 'user', 'content': '你好'}, {'role': 'assistant', 'content': '哦...'}, {'role': 'user', 'content': '怎么了？心情不好吗？'}, {'role': 'assistant', 'content': '对，我昨天晚上没有睡好'}, {'role': 'user', 'content': '啊？严重吗？要不要去医院看看？'}, {'role': 'assistant', 'content': '不用这么严重，只是睡眠不够充足而已。可能是工作压力比较大导致的。我只需要多休息一下就好了。谢谢你的关心。'}]\n"
          ]
        }
      ],
      "source": [
        "import Agently\n",
        "\n",
        "agent_factory = Agently.AgentFactory()\n",
        "agent_factory\\\n",
        "    .set_settings(\"model.OpenAI.auth\", { \"api_key\": \"\" })\n",
        "\n",
        "agent = agent_factory.create_agent()\n",
        "# We need to manage chat history manually in this case because\n",
        "# we want to change reply.\n",
        "# Agently Team To-Do:\n",
        "# - We will update Session component to support this use case\n",
        "#   to record chat history with edited reply automatically\n",
        "chat_history = []\n",
        "while True:\n",
        "    # Confirm reply or edit it\n",
        "    def human_confirm(data):\n",
        "        global edited_reply\n",
        "        confirm = \"\"\n",
        "        while confirm not in (\"y\", \"n\"):\n",
        "            confirm = input(\"\\nDo you confirm? [Y/N]: \").lower()\n",
        "        if confirm == \"n\":\n",
        "            while edited_reply == \"\":\n",
        "                edited_reply = input(\"Correct reply: \")\n",
        "    # Use ReplyReformer component to change reply\n",
        "    def change_reply(data):\n",
        "        if edited_reply == \"\":\n",
        "            return data[\"reply\"]\n",
        "        else:\n",
        "            return edited_reply\n",
        "\n",
        "    # Start main process\n",
        "    edited_reply = \"\"\n",
        "    global chat_history\n",
        "    user_input = input(\"[USER]: \")\n",
        "    if user_input == \"#exit\":\n",
        "        break\n",
        "    print(\"[Assistant] want to response:\")\n",
        "    # - on_delta: print response in realtime\n",
        "    # - on_done: pause output process and call `human_confirm()`\n",
        "    # - reform_reply: call `change_reply()` to edit final return\n",
        "    reply = agent\\\n",
        "        .chat_history(chat_history)\\\n",
        "        .input(user_input)\\\n",
        "        .on_delta(lambda data: print(data, end=\"\"))\\\n",
        "        .on_done(human_confirm)\\\n",
        "        .reform_reply(change_reply)\\\n",
        "        .start()\n",
        "    print(\"[Assistant]: \", reply)\n",
        "    chat_history.extend([\n",
        "        { \"role\": \"user\", \"content\": user_input },\n",
        "        { \"role\": \"assistant\", \"content\": reply }\n",
        "    ])\n",
        "print(\"------------\\n\", \"[Chat History]: \\n\", chat_history)"
      ]
    },
    {
      "cell_type": "markdown",
      "source": [
        "---\n",
        "\n",
        "[**_<font color = \"red\">Agent</font><font color = \"blue\">ly</font>_** Framework - Speed up your AI Agent Native application development](https://github.com/Maplemx/Agently)"
      ],
      "metadata": {
        "id": "IT3pSaO2NgkG"
      }
    }
  ]
}