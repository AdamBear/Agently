{
  "nbformat": 4,
  "nbformat_minor": 0,
  "metadata": {
    "colab": {
      "provenance": [],
      "include_colab_link": true
    },
    "kernelspec": {
      "name": "python3",
      "display_name": "Python 3"
    },
    "language_info": {
      "name": "python"
    }
  },
  "cells": [
    {
      "cell_type": "markdown",
      "metadata": {
        "id": "view-in-github",
        "colab_type": "text"
      },
      "source": [
        "<a href=\"https://colab.research.google.com/github/Maplemx/Agently/blob/main/playground/survey_agent_asks_questions_according_form.ipynb\" target=\"_parent\"><img src=\"https://colab.research.google.com/assets/colab-badge.svg\" alt=\"Open In Colab\"/></a>"
      ]
    },
    {
      "cell_type": "markdown",
      "source": [
        "# Survey Agent Asks Questions According Form"
      ],
      "metadata": {
        "id": "dAzfqHDCAXZe"
      }
    },
    {
      "cell_type": "markdown",
      "source": [
        "## Demo Description\n",
        "\n",
        "**Author:** Agently Team\n",
        "\n",
        "**Prompt Language:** English\n",
        "\n",
        "**Agent Components:** Role\n",
        "\n",
        "**Description:**\n",
        "\n",
        "This case shows how to use Agently framework to create a survey agent asking questions according the survey form, communicate with customer, collecting feedbacks using natural language. During the survey, customer may tell a story or jump out of the question to say something else and the agent can try its best to handle this complex situation. This case shows how agent handle complex task and maybe you can modified the demo code to make it work better?\n",
        "\n",
        "本案例演示了如何使用Agently框架创建一个问卷调查agent，通过自然语言问答的方式和客户交流，回收问卷信息。在交流过程中，客户有可能会跳出当前的问题讲一些别的事情，这对于agent而言会是一个挑战。可以看看agent能否处理这些复杂的场景。这个案例展现了agent处理复杂任务的一种思路，你可以在这个基础上进一步优化，或许你的思路会让agent做得更好？"
      ],
      "metadata": {
        "id": "kyLFmv_l-aIx"
      }
    },
    {
      "cell_type": "markdown",
      "source": [
        "## Step 1: Install Packages"
      ],
      "metadata": {
        "id": "nRsfMu4lAJZF"
      }
    },
    {
      "cell_type": "code",
      "source": [
        "!pip install Agently"
      ],
      "metadata": {
        "id": "nsst7pOAANlr"
      },
      "execution_count": null,
      "outputs": []
    },
    {
      "cell_type": "markdown",
      "source": [
        "## Step 2: Demo Code"
      ],
      "metadata": {
        "id": "_-1gryYwASPM"
      }
    },
    {
      "cell_type": "code",
      "source": [],
      "metadata": {
        "id": "_0_5nUPPaNUW"
      },
      "execution_count": null,
      "outputs": []
    },
    {
      "cell_type": "code",
      "execution_count": 45,
      "metadata": {
        "colab": {
          "base_uri": "https://localhost:8080/"
        },
        "id": "lLaK-w-E-ZKU",
        "outputId": "4c26420d-824b-4720-ea5f-edb29b99c22c"
      },
      "outputs": [
        {
          "output_type": "stream",
          "name": "stdout",
          "text": [
            "[Survey Agent]:  Hello! Thank you for taking the time to participate in our survey. We are conducting this survey to gather feedback from our valued customers on their dining experience at our restaurant. Your input will help us improve our services and better cater to your needs. We appreciate your feedback and look forward to hearing about your dining experience with us.\n",
            "[Survey Agent]:  Thank you for participating in our survey! To begin, could you please provide your name?\n",
            "[Customer]:  Sam Green\n",
            "[Survey Agent]:  Thank you, Sam, for providing your name. Now I'd like to ask if you'd be willing to share your phone number with us for follow-up purposes?\n",
            "[Survey Agent]:  Thank you, Sam. Would you be comfortable providing us with your phone number for follow-up purposes? This will help us ensure that we can address any issues or feedback you may have. If you prefer not to share your phone number, that's completely understandable and your feedback in this survey is still incredibly valuable to us.\n",
            "[Customer]:  I'd rather not.\n",
            "[Survey Agent]:  Thank you for letting us know. We completely understand. Your feedback in this survey is still incredibly valuable to us. Now, may I ask about your dining experience at our restaurant?\n",
            "[Survey Agent]:  Could you please let us know the date and time of your recent visit to our restaurant?\n",
            "[Customer]:  at noon on last Saturday\n",
            "[Survey Agent]:  Thank you for providing the date and time of your recent visit. This helps us understand your experience better. Now, if you could kindly share your satisfaction level with the dining experience, that would be very helpful!\n",
            "[Survey Agent]:  On a scale of 1 to 10, how would you rate your satisfaction with your dining experience at our restaurant?\n",
            "[Customer]:  8.5 I think?\n",
            "[Survey Agent]:  Thank you for your feedback! I'm glad to hear that you had a positive experience overall. To help us better understand your experience, could you elaborate on what specifically you enjoyed about your dining experience? For example, was it the food, the service, the atmosphere, or something else that stood out to you?\n",
            "[Customer]:  The steak was so good and the waitress was warmly\n",
            "[Survey Agent]:  Thank you for sharing your positive feedback! I'm glad to hear that you enjoyed the steak and found the service to be warm. Would you mind sharing more details about your dining experience, such as the atmosphere, any specific dishes you enjoyed, or any areas where we could improve? Your input will help us ensure that we continue to deliver a great experience for our customers.\n",
            "[Customer]:  Oh, there's one thing. I miss your parking lot because your parking lot's sign is too small\n",
            "[Survey Agent]:  Thank you for sharing your satisfaction rating! I'm glad to hear that you enjoyed the steak and had a positive interaction with our waitress. It seems you mentioned something about the parking lot. Can you provide more details about your experience with the parking lot, such as its location or any suggestions for improvement?\n",
            "[Customer]:  The sign of it, it is too small. I missed it and have to drive a long way to circle around.\n",
            "[Survey Agent]:  Thank you for sharing your feedback about the parking lot sign. We apologize for any inconvenience this may have caused. Your input is valuable to us and we will take this into consideration for future improvements.\n",
            "[Survey Agent]:  Thank you for participating in our survey, Sam! We completely understand your preference not to share your phone number. Moving on, could you tell me about your favorite dish or food that you enjoyed at our restaurant?\n",
            "[Customer]:  Like I said, I like the steak.\n",
            "[Survey Agent]:  Thank you for sharing! We're glad to hear that you enjoyed the steak. Is there anything else about your dining experience that you'd like to share or any other aspects you'd like to add?\n",
            "[Survey Agent]:  Thank you for completing the survey, Sam Green. We appreciate your feedback and look forward to serving you again. Goodbye!\n",
            "[Survey Form]:\n",
            " {'name': {'value': 'Sam Green', 'customer_explation': [], 'data_type': 'String', 'optional': False}, 'phone': {'value': None, 'customer_explation': [\"I'd rather not.\"], 'data_type': 'Number', 'optional': True}, 'dining time': {'value': 'at noon on last Saturday', 'customer_explation': [], 'data_type': 'Date String', 'optional': True}, 'satisfaction': {'value': 8.5, 'customer_explation': ['I think?', 'I think the steak was so good and the waitress was warmly'], 'data_type': 'Number: 1-10, 10 is the best, 1 is the worst', 'optional': True}, 'favourite food': {'value': 'steak', 'customer_explation': ['Like I said, I like the steak.'], 'data_type': 'String', 'optional': True}, 'commendation': {'value': None, 'customer_explation': [], 'data_type': 'String', 'optional': True}, 'criticism': {'value': 'The parking lot sign is too small, which caused inconvenience.', 'customer explation': [], 'data_type': 'String', 'optional': True}, 'comments_and_add_up': {'value': None, 'customer_explation': [], 'data_type': 'Boolean', 'optional': True, 'comments': \"It's for add up information during the survey. Make sure update the full value each time you need to update\"}}\n"
          ]
        }
      ],
      "source": [
        "from datetime import datetime\n",
        "import Agently\n",
        "\n",
        "agent_factory = Agently.AgentFactory()\n",
        "\n",
        "agent_factory\\\n",
        "    .set_settings(\"model.OpenAI.auth\", { \"api_key\": \"\" })\\\n",
        "    .set_settings(\"model.OpenAI.options\", { \"model\": \"gpt-3.5-turbo-1106\" })\n",
        "\n",
        "survey = {\n",
        "    \"name\": {\n",
        "        \"value\":  None,\n",
        "        \"customer_explation\": [],\n",
        "        \"data_type\": \"String\",\n",
        "        \"optional\": False,\n",
        "    },\n",
        "    \"phone\": {\n",
        "        \"value\": None,\n",
        "        \"customer_explation\": [],\n",
        "        \"data_type\": \"Number\",\n",
        "        \"optional\": True,\n",
        "    },\n",
        "    \"dining time\": {\n",
        "        \"value\":  None,\n",
        "        \"customer_explation\": [],\n",
        "        \"data_type\": \"Date String\",\n",
        "        \"optional\": True,\n",
        "    },\n",
        "    \"satisfaction\": {\n",
        "        \"value\": None,\n",
        "        \"customer_explation\": [],\n",
        "        \"data_type\": \"Number: 1-10, 10 is the best, 1 is the worst\",\n",
        "        \"optional\": True,\n",
        "    },\n",
        "    \"favourite food\": {\n",
        "        \"value\": None,\n",
        "        \"customer_explation\": [],\n",
        "        \"data_type\": \"String\",\n",
        "        \"optional\": True,\n",
        "    },\n",
        "    \"commendation\": {\n",
        "        \"value\": None,\n",
        "        \"customer_explation\": [],\n",
        "        \"data_type\": \"String\",\n",
        "        \"optional\": True,\n",
        "    },\n",
        "    \"criticism\": {\n",
        "        \"value\": None,\n",
        "        \"customer explation\": [],\n",
        "        \"data_type\": \"String\",\n",
        "        \"optional\": True,\n",
        "    },\n",
        "    \"comments_and_add_up\": {\n",
        "        \"value\": None,\n",
        "        \"customer_explation\": [],\n",
        "        \"data_type\": \"Boolean\",\n",
        "        \"optional\": True,\n",
        "        \"comments\": \"It's for add up information during the survey. Make sure update the full value each time you need to update\",\n",
        "    },\n",
        "}\n",
        "\n",
        "def start_survey(survey: dict):\n",
        "    agent = agent_factory.create_agent()\n",
        "    # Prepare Basic Information for Agent\n",
        "    agent\\\n",
        "        .set_role(\"Role\", \"Green City Kitchen Survey Expert\")\\\n",
        "        .set_role(\"NAME\", \"Jack Grayson\")\\\n",
        "        .general(\n",
        "            \"Introduce of Green City Kitchen\",\n",
        "            \"1457, Sunshine Street, Fake City.\" + \\\n",
        "            \"Beautiful view of the seaside.\" + \\\n",
        "            \"Open from 10:30am to 10:30pm \" + \\\n",
        "            \"providing brunch, lunch and dinner.\" + \\\n",
        "            \"Ordering Number: 35671881\" + \\\n",
        "            \"Party pre-order accepted.\"\n",
        "        )\\\n",
        "        .general(\n",
        "            \"Current Date\",\n",
        "            datetime.now().date()\n",
        "        )\n",
        "    # Start the Survey\n",
        "    can_stop = False\n",
        "    chat_history = []\n",
        "    opening = agent\\\n",
        "        .input({\n",
        "            \"survey\": survey,\n",
        "        })\\\n",
        "        .output({\n",
        "            \"opening\": (\n",
        "                \"String\",\n",
        "                \"Your warm opening about this survey \" + \\\n",
        "                \"and introduce the background of this survey \" + \\\n",
        "                \"like who you are and which dining customer had is being reviewed\"\n",
        "            ),\n",
        "        })\\\n",
        "        .start()\n",
        "    print(\"[Survey Agent]: \", opening[\"opening\"])\n",
        "    chat_history.append({ \"role\": \"assistant\", \"content\": opening[\"opening\"] })\n",
        "    while not can_stop:\n",
        "        # Planning: Check Survey Form and Ask Question\n",
        "        question_plan = agent\\\n",
        "            .chat_history(chat_history)\\\n",
        "            .instruct(\n",
        "                \"Action Rules\",\n",
        "                [\n",
        "                    \"1. Check {survey} form and make sure all filled items have complete and correct information.\",\n",
        "                    \"2. If there're incomplete or incorrect information, choose one of the items and asking customer again.\",\n",
        "                    \"3. If there're still blank items, choose one of the blank items to ask.\",\n",
        "                    \"4. Check chat history, make sure ask even optional items at least once\",\n",
        "                    \"5. Do remember to check chat history and do not repeat questions that are already asked and responsed correctly.\",\n",
        "                ]\n",
        "            )\\\n",
        "            .input({\n",
        "                \"survey\": survey,\n",
        "            })\\\n",
        "            .output({\n",
        "                \"incorrect_items\": (\"Array | Null\", \"list items names with incorrect information.\"),\n",
        "                \"target_item\": (\"String\", \"choose one target item for this question round. If there're incorrect items, ask them first.\"),\n",
        "                \"question\": (\"String\", \"your question about {target_item} to customer. Check chat history, don't repeat yourself.\"),\n",
        "            })\\\n",
        "            .start()\n",
        "        # Asking: Survey Agent Interact with Customer\n",
        "        print(\"[Survey Agent]: \", question_plan[\"question\"])\n",
        "        need_to_dig_deep = True\n",
        "        while need_to_dig_deep:\n",
        "            customer_response = input(f\"[Customer]:  \")\n",
        "            # Filling the Form: Survey Agent Analyses the Response, Fills the Form and Replies.\n",
        "            analysis = agent\\\n",
        "                .chat_history(chat_history)\\\n",
        "                .input({\n",
        "                    \"survey\": survey,\n",
        "                    \"question_target_item\": question_plan[\"target_item\"],\n",
        "                    \"question\": question_plan[\"question\"],\n",
        "                    \"customer_response\": customer_response,\n",
        "                })\\\n",
        "                .output({\n",
        "                    \"fillings\": [{\n",
        "                        \"target_item\": (\"String\", \"according {customer_response}, which item from {survey} is response about?\"),\n",
        "                        \"value\": (\"As required\", \"value you will fill into the form about {target_item} according {survey} required\"),\n",
        "                        \"customer_explation\": (\"String | Null\", \"Extra explation from the customer\"),\n",
        "                    }],\n",
        "                    \"need_to_dig_deep\": (\"Boolean\", \"if {customer_response} is not so exactly and according chat history you think you can get more information, return true\"),\n",
        "                    \"reply\": \"Your reply to customer, to finish this item's question-answer or question to dig deep\",\n",
        "                })\\\n",
        "                .start()\n",
        "            need_to_dig_deep = analysis[\"need_to_dig_deep\"]\n",
        "            if \"fillings\" in analysis:\n",
        "                for filling in analysis[\"fillings\"]:\n",
        "                    survey[filling[\"target_item\"]][\"value\"] = filling[\"value\"]\n",
        "                    if \"customer_explation\" in filling\\\n",
        "                        and filling[\"customer_explation\"] not in (None, \"\"):\n",
        "                        survey[filling[\"target_item\"]][\"customer_explation\"]\\\n",
        "                            .append(str(filling[\"customer_explation\"]))\n",
        "            print(\"[Survey Agent]: \", analysis[\"reply\"])\n",
        "            chat_history.extend([\n",
        "                { \"role\": \"assistant\", \"content\": question_plan[\"question\"] },\n",
        "                { \"role\": \"user\", \"content\": customer_response },\n",
        "                { \"role\": \"assistant\", \"content\": analysis[\"reply\"] }\n",
        "            ])\n",
        "        # Can Stop Check\n",
        "        can_stop_judgement = agent\\\n",
        "            .input({\n",
        "                \"survey\": survey\n",
        "            })\\\n",
        "            .output({\n",
        "                \"can_stop_judgement\": (\n",
        "                    \"Boolean\",\n",
        "                    \"if all survey required items are filled \" + \\\n",
        "                    \"and optional items are tried to ask in chat history, \" + \\\n",
        "                    \"you can stop.\"\n",
        "                ),\n",
        "                \"stop_reply\": (\"String\", \"if {hang_up_judgement} is true, generate your thanks and goodbye reply\"),\n",
        "            })\\\n",
        "            .start()\n",
        "        if can_stop_judgement[\"can_stop_judgement\"]:\n",
        "            can_stop = True\n",
        "            print(\"[Survey Agent]: \", can_stop_judgement[\"stop_reply\"])\n",
        "            chat_history.append({ \"role\": \"assistant\", \"content\": can_stop_judgement[\"stop_reply\"]})\n",
        "            print(\"[Survey Form]:\\n\", survey)\n",
        "\n",
        "start_survey(survey)"
      ]
    },
    {
      "cell_type": "markdown",
      "source": [
        "---\n",
        "\n",
        "[**_<font color = \"red\">Agent</font><font color = \"blue\">ly</font>_** Framework - Speed up your AI Agent Native application development](https://github.com/Maplemx/Agently)"
      ],
      "metadata": {
        "id": "IT3pSaO2NgkG"
      }
    }
  ]
}