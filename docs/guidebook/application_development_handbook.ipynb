{
  "nbformat": 4,
  "nbformat_minor": 0,
  "metadata": {
    "colab": {
      "provenance": [],
      "toc_visible": true,
      "authorship_tag": "ABX9TyMjx+PELb3oXTkMNcOlO68+",
      "include_colab_link": true
    },
    "kernelspec": {
      "name": "python3",
      "display_name": "Python 3"
    },
    "language_info": {
      "name": "python"
    }
  },
  "cells": [
    {
      "cell_type": "markdown",
      "metadata": {
        "id": "view-in-github",
        "colab_type": "text"
      },
      "source": [
        "<a href=\"https://colab.research.google.com/github/Maplemx/Agently/blob/main/docs/guidebook/application_development_handbook.ipynb\" target=\"_parent\"><img src=\"https://colab.research.google.com/assets/colab-badge.svg\" alt=\"Open In Colab\"/></a>"
      ]
    },
    {
      "cell_type": "markdown",
      "source": [
        "## **_<font color = \"red\">Agent</font><font color = \"blue\">ly</font>_ 3.0 Application Development Handbook**\n",
        "> Don't know what is Agently yet? [>>>  READ THIS FIRST](https://github.com/Maplemx/Agently/blob/main/docs/guidebook/introduction.ipynb)\n",
        ">\n",
        "> How to use: `pip install Agently`\n",
        ">\n",
        "> Github Repo: https://github.com/Maplemx/Agently\n",
        ">\n",
        "> Contact Me: moxin@Agently.cn\n",
        ">\n",
        "> If you like this project, please ⭐️ our repo, thanks."
      ],
      "metadata": {
        "id": "dBCXLbkKjcwB"
      }
    },
    {
      "cell_type": "markdown",
      "source": [
        "## Quick Start\n"
      ],
      "metadata": {
        "id": "TwIrAkp_jpmv"
      }
    },
    {
      "cell_type": "markdown",
      "source": [
        "### Package Installation\n",
        "\n",
        "> ℹ️ If you're using colab or jupyter, run this package installation first to enable all code down below."
      ],
      "metadata": {
        "id": "tPU5CHkokO2N"
      }
    },
    {
      "cell_type": "code",
      "source": [
        "# Main Package\n",
        "!pip install Agently\n",
        "# Requirement Packages\n",
        "## Network\n",
        "!pip install aiohttp\n",
        "!pip install websockets\n",
        "!pip install tornado\n",
        "## Model Clients\n",
        "!pip install openai\n",
        "!pip install httpx\n",
        "!pip install erniebot\n",
        "!pip install zhipuai\n",
        "## Data Format\n",
        "!pip install PyYAML"
      ],
      "metadata": {
        "id": "3yyH30u8kNoV"
      },
      "execution_count": null,
      "outputs": []
    },
    {
      "cell_type": "markdown",
      "source": [
        "### Hello World"
      ],
      "metadata": {
        "id": "knsvL3h5keQc"
      }
    },
    {
      "cell_type": "code",
      "source": [
        "# Import and Settings\n",
        "import Agently\n",
        "agent = Agently.create_agent()\n",
        "agent\\\n",
        "    .use_model(\"OpenAI\")\\\n",
        "    .set_model(\"auth\", { \"api_key\": \"<Your-API-Key>\" })\n",
        "# Start to use\n",
        "agent\\\n",
        "    .input(\"response 'hello world'.\")\\\n",
        "    .start()"
      ],
      "metadata": {
        "id": "kmDPcoHLjyFA"
      },
      "execution_count": null,
      "outputs": []
    },
    {
      "cell_type": "markdown",
      "source": [
        "## Settings"
      ],
      "metadata": {
        "id": "7IUTN_A08bUE"
      }
    },
    {
      "cell_type": "markdown",
      "source": [
        "### Where can you set your settings?\n",
        "\n",
        "Agently framework provide different settings space for developers to use."
      ],
      "metadata": {
        "id": "AbAP7GmRolbG"
      }
    },
    {
      "cell_type": "code",
      "source": [
        "import Agently\n",
        "\n",
        "# First and most recommended: AgentFactory Settings\n",
        "## Settings of AgentFactory will be inherit to every agent instance created by\n",
        "## agent factory instance\n",
        "agent_factory = Agently.AgentFactory()\n",
        "## Use key 'current_model' to set model you want to use\n",
        "## Use key 'model.<model name>.<settings key>' to set single setting\n",
        "agent_factory\\\n",
        "    .set_settings(\"current_model\", \"OpenAI\")\\\n",
        "    .set_settings(\"model.OpenAI.auth\", { \"api_key\": \"<Your-OpenAI-API-Key>\" })\n",
        "\n",
        "# Second: Agent Settings\n",
        "## You can give an agent instance unique settings\n",
        "agent = agent_factory.create_agent()\n",
        "agent\\\n",
        "    .set_settings(\"current_model\", \"ZhipuAI\")\\\n",
        "    .set_settings(\"model.ZhipuAI.auth\", { \"api_key\": \"<Your-ZhipuAI-API-Key>\" })\n",
        "## These settings above will overwrite the settings inherit from agent factory\n",
        "## but will not affect other agent instance created by same agent factory\n",
        "another_agent = agent_factory.create_agent()\n",
        "## another_agent will still using the OpenAI settings inherit from agent factory\n",
        "\n",
        "# Third: Global Settings\n",
        "## If you have some settings that you want to set for every class(AgentFactory,\n",
        "## Agent, Request...) in your application, you can use global settings to make\n",
        "## those settings as default settings\n",
        "Agently.global_settings\\\n",
        "    .set(\"current_model\", \"OpenAI\")\\\n",
        "    .set_settings(\"model.OpenAI.options\", { \"model\": \"gpt-3.5-turbo-1106\" })\n",
        "## Now we set 'gpt-3.5-turbo-1106' as default for every OpenAI model request\n",
        "\n",
        "# The Last One: Request Settings\n",
        "## Maybe sometimes you just want to use request instance to do some simple\n",
        "## reques. You can also give request instance unique settings.\n",
        "request = Agently.Request()\n",
        "request\\\n",
        "    .set_settings(\"current_model\", \"ERNIE\")\\\n",
        "    .set_settings(\"model.ERNIE.auth\", {\n",
        "        \"aistudio\": \"<Your-Baidu-AIStudio-Access-Token>\"\n",
        "    })"
      ],
      "metadata": {
        "id": "9I788JB3ot9W"
      },
      "execution_count": null,
      "outputs": []
    },
    {
      "cell_type": "markdown",
      "source": [
        "### Common Types of Settings\n",
        "\n",
        "- **Model Settings**:\n",
        "\n",
        "    Model settings helps developers to configure almost everything they need during model requesting.\n",
        "    \n",
        "    **Standard Usage**:\n",
        "    \n",
        "    `.set_settings(\"model.<model name>.<setting key>\", <setting value>)`\n",
        "\n",
        "    **Alias**:\n",
        "    - `agent.use_model(\"<model name>\")`\n",
        "    - `agent.set_model(\"<setting key>\", <setting value>)`\n",
        "    - `agent.set_model_auth({ \"<auth key>\": \"<auth value>\" })`\n",
        "    - `agent.set_model_url(\"<base url>\")`\n",
        "    - `agent.set_model_option(\"<option key>\", <option value>)`\n",
        "    - `request.use_model(\"<model name>\")`\n",
        "    - `request.set_model(\"<setting key>\", <setting value>)`\n",
        "    - `request.set_model_auth({ \"<auth key>\": \"<auth value>\" })`\n",
        "    - `request.set_model_url(\"<base url>\")`\n",
        "    - `request.set_model_option(\"<option key>\", <option value>)`\n",
        "\n",
        "- **Proxy**:\n",
        "    \n",
        "    Proxy settings helps developers to use proxy to visit website / request APIs.\n",
        "\n",
        "    **Standard Usage**:\n",
        "    \n",
        "    `.set_settings(\"proxy\", \"<proxy address>\")`\n",
        "\n",
        "    **Alias**:\n",
        "    - `agent_factory.set_proxy(\"<proxy address>\")`\n",
        "    - `agent.set_proxy(\"<proxy address>\")`\n",
        "    - `request.set_proxy(\"<proxy address>\")`\n",
        "\n",
        "- **Component Toggles**:\n",
        "\n",
        "    Component toggles can be used to turn on / turn off specific agent components.\n",
        "\n",
        "    **Standard Usage**:\n",
        "    \n",
        "    `.set_settings(\"component_toggles.<component name>\", <True | False>)`\n",
        "\n",
        "    **Alias**:\n",
        "    - `agent_factory.toggle_component(\"<component name>\", <True | False>)`\n",
        "    - `agent.toggle_component(\"<component name>\", <True | False>)`\n",
        "\n",
        "- **Plugin Settings**:\n",
        "    \n",
        "    Plugin settings can be used to configure specific plugin (not only agent components but also request plugins, storage plugins, etc).\n",
        "\n",
        "    For example:\n",
        "\n",
        "    Agent component \"Session\" need to configure \"max length\" to decide how long the chat history will be kept in request message.\n",
        "    \n",
        "    We can use `.set_settings(\"plugin_settings.agent_component.Session.max_length\", 3000)` to configure it.\n",
        "\n",
        "    **Standard Usage**:\n",
        "\n",
        "    `.set_settings(\"plugin_settings.<plugin type>.<plugin name>.<setting key>\", <setting value>)`"
      ],
      "metadata": {
        "id": "DAZrJi0Q9FBa"
      }
    },
    {
      "cell_type": "markdown",
      "source": [
        "## Model Request"
      ],
      "metadata": {
        "id": "IqvQUNh4luE9"
      }
    },
    {
      "cell_type": "markdown",
      "source": [
        "In this document, we will just use agent_factory settings to demostrate how to make your agent request work with different models. But of course you can choose any other settings methods in your own project if you feel need to."
      ],
      "metadata": {
        "id": "Wr9HSyH3t2by"
      }
    },
    {
      "cell_type": "markdown",
      "source": [
        "### OpenAI"
      ],
      "metadata": {
        "id": "t5RdX_QroQio"
      }
    },
    {
      "cell_type": "code",
      "source": [
        "import Agently\n",
        "agent_factory = Agently.AgentFactory()\n",
        "\n",
        "# Notice: Remove all annotations before run\n",
        "agent_factory\\\n",
        "    ## set current model as OpenAI\n",
        "    ## or you can just remove this setting because \"OpenAI\" is set by default\n",
        "    .set_settings(\"current_model\", \"OpenAI\")\\\n",
        "    ## set your API key\n",
        "    .set_settings(\"model.OpenAI.auth\", { \"api_key\": \"<Your-OpenAI-API-Key>\" })\\\n",
        "    ## optional, remove this line if you want to request OpenAI offical API\n",
        "    ## set value as the base url path you want to change to\n",
        "    .set_settings(\"model.OpenAI.url\", \"https://redirect-service-provider/api/v1\")\\\n",
        "    ## optional, set request options followed OpenAI API document's instruction\n",
        "    .set_settings(\"model.OpenAI.options\", { \"model\": \"gpt-4\" })\\\n",
        "    ## optional, important, set this if you want to use proxy!\n",
        "    ## if you use Clash, VPN, V2Ray to visit OpenAI API, you must check your\n",
        "    ## client to find your proxy address, then set the address as value here.\n",
        "    .set_proxy(\"http://127.0.0.1:7890\")\n",
        "\n",
        "# Test\n",
        "agent = agent_factory.create_agent()\n",
        "agent.input(\"Print 'It works'.\").start()"
      ],
      "metadata": {
        "id": "DZ0U3MSDoWCc"
      },
      "execution_count": null,
      "outputs": []
    },
    {
      "cell_type": "markdown",
      "source": [
        "### Microsoft Azure OpenAI"
      ],
      "metadata": {
        "id": "08Qg6hjdzdVW"
      }
    },
    {
      "cell_type": "code",
      "source": [
        "# Working on it"
      ],
      "metadata": {
        "id": "ZF2vXoihzhiP"
      },
      "execution_count": null,
      "outputs": []
    },
    {
      "cell_type": "markdown",
      "source": [
        "### Amazon Bedrock Claude"
      ],
      "metadata": {
        "id": "nJqLXCutzU2R"
      }
    },
    {
      "cell_type": "code",
      "source": [
        "# Working on it"
      ],
      "metadata": {
        "id": "xLBONBKCzZUy"
      },
      "execution_count": null,
      "outputs": []
    },
    {
      "cell_type": "markdown",
      "source": [
        "### ZhipuAI"
      ],
      "metadata": {
        "id": "bvAsl1tewbIl"
      }
    },
    {
      "cell_type": "code",
      "source": [
        "import Agently\n",
        "agent_factory = Agently.AgentFactory()\n",
        "\n",
        "# Notice: Remove all annotations before run\n",
        "agent_factory\\\n",
        "    ## set current model as ZhipuAI\n",
        "    .set_settings(\"current_model\", \"ZhipuAI\")\\\n",
        "    ## set your API key\n",
        "    .set_settings(\"model.ZhipuAI.auth\", { \"api_key\": \"<Your-ZhipuAI-API-Key>\" })\n",
        "\n",
        "# Test\n",
        "agent = agent_factory.create_agent()\n",
        "agent.input(\"Print 'It works'.\").start()"
      ],
      "metadata": {
        "id": "gmrlqAIiwePE"
      },
      "execution_count": null,
      "outputs": []
    },
    {
      "cell_type": "markdown",
      "source": [
        "### Baidu ERNIE"
      ],
      "metadata": {
        "id": "zliwy3pKyLV1"
      }
    },
    {
      "cell_type": "code",
      "source": [
        "import Agently\n",
        "agent_factory = Agently.AgentFactory()\n",
        "\n",
        "# Notice: Remove all annotations before run\n",
        "agent_factory\\\n",
        "    ## set current model as ERNIE\n",
        "    .set_settings(\"current_model\", \"ERNIE\")\\\n",
        "    ## set your access token\n",
        "    .set_settings(\"model.ERNIE.auth\", {\n",
        "        \"aistudio\": \"<Your-AIStudio-Access-Token>\",\n",
        "    })\n",
        "\n",
        "# Test\n",
        "agent = agent_factory.create_agent()\n",
        "agent.input(\"Print 'It works'.\").start()"
      ],
      "metadata": {
        "id": "qLjILKRWyOrU"
      },
      "execution_count": null,
      "outputs": []
    },
    {
      "cell_type": "markdown",
      "source": [
        "### MiniMax"
      ],
      "metadata": {
        "id": "c98HJjJ7zHVS"
      }
    },
    {
      "cell_type": "code",
      "source": [
        "# Not Support Yet"
      ],
      "metadata": {
        "id": "rlz0mxfYzJjS"
      },
      "execution_count": null,
      "outputs": []
    },
    {
      "cell_type": "markdown",
      "source": [
        "### Xunfei Spark"
      ],
      "metadata": {
        "id": "_EwR_Ma8zOdZ"
      }
    },
    {
      "cell_type": "code",
      "source": [
        "# Not Support Yet"
      ],
      "metadata": {
        "id": "Wau5K_QkzSem"
      },
      "execution_count": null,
      "outputs": []
    },
    {
      "cell_type": "markdown",
      "source": [
        "## Basic Agent Interact\n",
        "\n",
        "\n",
        "\n"
      ],
      "metadata": {
        "id": "STuXOhKSzsJu"
      }
    },
    {
      "cell_type": "markdown",
      "source": [
        "### Standard Request Slots\n",
        "\n",
        "In Agently framework, we provide different basic agent interact interfaces in request runtime context to help application developers to express their intention. We named these interfaces \"standard request slots\" or \"slots\" for short.\n",
        "\n",
        "Standard request slots are the bridges between application intention expression and standard model request. Model request plugin developers will put data from these slots into right place in request data / messages as specific model required.\n",
        "\n",
        "But as application developers, you don't need to worry about that and just need to understand the definition about these slots listed below:\n",
        "\n",
        "- `prompt_general`: Global instructions that usually need model to follow every time in every request\n",
        "- `prompt_role`: Descriptions about the role that the model shall play as. For examples: a professional python engineer, a cat girl who loves using emoji, etc.\n",
        "- `prompt_user_info`: Description about who the user is and what is the user prefer.\n",
        "- `prompt_abstract`: Abstract and summary about current topic.\n",
        "- `prompt_chat_history`: Chat logs / history message records of current chat.\n",
        "- `prompt_input`: Inputs data for model request this time or agent thinking / action this time (short for \"this time\" in this document).\n",
        "- `prompt_information`: Information that is useful or you want to add this time.\n",
        "- `prompt_instruction`: Instructions about what to do / how to do / handle process / rules to follow this time.\n",
        "- `prompt_output`: Output data structure and explanation for each output item this time.\n",
        "- `prompt_files`: Path of file(s) you want to quote this time. (Only available when agent or model support file reading)"
      ],
      "metadata": {
        "id": "cMC4oiJP08As"
      }
    },
    {
      "cell_type": "markdown",
      "source": [
        "### Basic Agent Interact Alias\n",
        "\n",
        "You can update data to standard request slots in request runtime context manually but that is not recommended.\n",
        "\n",
        "Usually we use interact alias to append data to slots.\n",
        "\n",
        "**Alias - Slots Mappings**:\n",
        "\n",
        "These alias can be used by `agent` or `request` instance.\n",
        "\n",
        "- `.general()` => `prompt_general`\n",
        "- `.role()` => `prompt_role`\n",
        "- `.user_info()` => `prompt_user_info`\n",
        "- `.abstract()` => `prompt_abstract`\n",
        "- `.chat_history()` => `prompt_chat_history`\n",
        "- `.input()` => `prompt_input`\n",
        "- `.info()` => `prompt_information`\n",
        "- `.instruct()` => `prompt_instruction`\n",
        "- `.output()` => `prompt_output`\n",
        "- `.file(<file path: str>)` => `prompt_files` (one file path a time)\n",
        "- `.files(<file path list: list>)` => `prompt_files`(extend file path list)"
      ],
      "metadata": {
        "id": "8OvmaB2RGif4"
      }
    },
    {
      "cell_type": "markdown",
      "source": [
        "### You can pass almost any type of data to agent and receive structure data response\n",
        "\n",
        "Agently team made a great effort to make sure application developers can pass almost any type of data to agent in those alias."
      ],
      "metadata": {
        "id": "T4-APjWXJDbV"
      }
    },
    {
      "cell_type": "code",
      "source": [
        "import Agently\n",
        "agent_factory = Agently.AgentFactory()\n",
        "agent_factory\\\n",
        "    .set_settings(\"model.OpenAI.auth\", { \"api_key\": \"<Your-OpenAI-API-Key>\" })\n",
        "agent = agent_factory.create_agent()\n",
        "\n",
        "# You can pass almost any type of data into alias\n",
        "# list, dict, str, number, bool... whatever you want\n",
        "role_settings = {\n",
        "    \"name\": \"Frank\",\n",
        "    \"desc\": \"Frank is always chill and cool. He responses question never using more than 5 words.\"\n",
        "}\n",
        "topic_tag_list = [\"daily chatting\", \"professional skill\", \"task/job to finish\"]\n",
        "user_input = input(\"You want to say: \")\n",
        "\n",
        "# Of course you can pass a variable into the alias\n",
        "# or construct a dict inside the alias\n",
        "result = agent\\\n",
        "    .role(role_settings)\\\n",
        "    .input(user_input)\\\n",
        "    .info({ \"topic_tag_list\": topic_tag_list })\\\n",
        "    .instruct([\n",
        "        \"Response {input} acting follow the {role} settings.\",\n",
        "        \"Classify the topic about {input} and {output.response} this time and tag it using the tags in {topic_tag_list}\",\n",
        "    ])\\\n",
        "    .output({\n",
        "        \"response\": (\"String\", \"Your direct response as {role}\"),\n",
        "        \"tags\": [(\"String in {topic_tag_list}\", \"Tag by examine {input} and {response}\")],\n",
        "    })\\\n",
        "    .start()\n",
        "# (\"<Type>\", \"<Description>\") is a special expression designed by Agently framework\n",
        "# to help developers to define the output requirement of a specific item\n",
        "\n",
        "# Return from agent.start() is a structure data the same as .output() required\n",
        "# Let's try to print item values of result as it is a dict, to see if it works\n",
        "print(\"[Response]:\", result[\"response\"])\n",
        "print(\"[Topic Tags]:\", result[\"tags\"])"
      ],
      "metadata": {
        "colab": {
          "base_uri": "https://localhost:8080/"
        },
        "id": "oOy_8wePLGMV",
        "outputId": "89f09b97-1993-4e06-97ce-be6a2e7baecc"
      },
      "execution_count": 11,
      "outputs": [
        {
          "output_type": "stream",
          "name": "stdout",
          "text": [
            "You want to say: Hey man, what's up today? Do you wanna go to the supermarket with me today?\n",
            "[Response]: Not today, maybe later.\n",
            "[Topic Tags]: ['daily chatting']\n"
          ]
        }
      ]
    }
  ]
}