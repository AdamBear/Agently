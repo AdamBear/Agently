{
  "nbformat": 4,
  "nbformat_minor": 0,
  "metadata": {
    "colab": {
      "provenance": [],
      "toc_visible": true,
      "authorship_tag": "ABX9TyMbdRu+nTx3wnOBlyRd2v6L",
      "include_colab_link": true
    },
    "kernelspec": {
      "name": "python3",
      "display_name": "Python 3"
    },
    "language_info": {
      "name": "python"
    }
  },
  "cells": [
    {
      "cell_type": "markdown",
      "metadata": {
        "id": "view-in-github",
        "colab_type": "text"
      },
      "source": [
        "<a href=\"https://colab.research.google.com/github/Maplemx/Agently/blob/main/docs/guidebook/main.ipynb\" target=\"_parent\"><img src=\"https://colab.research.google.com/assets/colab-badge.svg\" alt=\"Open In Colab\"/></a>"
      ]
    },
    {
      "cell_type": "markdown",
      "source": [
        "## **_<font color = \"red\">Agent</font><font color = \"blue\">ly</font>_ 3.0 Guidebook**\n",
        "\n",
        "> Github Repo: https://github.com/Maplemx/Agently\n",
        ">\n",
        "> Contact Me: moxin@Agently.cn\n",
        ">\n",
        "> If you like this project, please ⭐️ our repo, thanks."
      ],
      "metadata": {
        "id": "gSqmRNu_3u4N"
      }
    },
    {
      "cell_type": "markdown",
      "source": [
        "## Installation Preparation\n",
        "\n",
        "Install Agently Python Package:"
      ],
      "metadata": {
        "id": "d1Y6zTvm_SWW"
      }
    },
    {
      "cell_type": "code",
      "source": [
        "!pip install Agently"
      ],
      "metadata": {
        "id": "KyPwuqLh_jyL"
      },
      "execution_count": null,
      "outputs": []
    },
    {
      "cell_type": "markdown",
      "source": [
        "Install Requiment Packages:"
      ],
      "metadata": {
        "id": "YZLRLrcOAQKu"
      }
    },
    {
      "cell_type": "code",
      "source": [
        "# Network\n",
        "!pip install aiohttp\n",
        "!pip install websockets\n",
        "!pip install tornado\n",
        "# Model Clients\n",
        "!pip install openai\n",
        "!pip install httpx\n",
        "!pip install erniebot\n",
        "!pip install zhipuai\n",
        "# Data Format\n",
        "!pip install PyYAML"
      ],
      "metadata": {
        "id": "bAtxXRvzAYFC"
      },
      "execution_count": null,
      "outputs": []
    },
    {
      "cell_type": "markdown",
      "source": [
        "Then we are ready to go!"
      ],
      "metadata": {
        "id": "leXdbKlrBQzy"
      }
    },
    {
      "cell_type": "markdown",
      "source": [
        "## What is **_<font color = \"red\">Agent</font><font color = \"blue\">ly</font>_** ?\n",
        "\n",
        "Agently is a develop framework that helps developers to use and build AI agent in their code in an extremely simple way.\n",
        "\n",
        "You can create an AI agent instance then interact with it like calling a function in very few codes like this below.\n",
        "\n",
        "Click the run button above and witness the magic. It's just that simple:"
      ],
      "metadata": {
        "id": "OUykZlmx7Aq_"
      }
    },
    {
      "cell_type": "code",
      "source": [
        "from google.colab import userdata\n",
        "# Import and Init Settings\n",
        "import Agently\n",
        "agent = Agently.create_agent()\n",
        "agent\\\n",
        "  .set_settings(\"use_model\", \"OpenAI\")\\\n",
        "  .set_settings(\"model.OpenAI.auth\", { \"api_key\": userdata.get(\"OpenAI.api_key\") })\n",
        "\n",
        "# Interact with the agent instance like calling a function\n",
        "result = agent\\\n",
        "  .input(\"Give me 3 words\")\\\n",
        "  .output([(\"String\", \"one word\")])\\\n",
        "  .start()\n",
        "print(result)"
      ],
      "metadata": {
        "colab": {
          "base_uri": "https://localhost:8080/"
        },
        "id": "tYg8nDLM9uW2",
        "outputId": "2cb20b3d-ee67-4b1f-90c1-93f3fd87473c"
      },
      "execution_count": 1,
      "outputs": [
        {
          "output_type": "stream",
          "name": "stdout",
          "text": [
            "['apple', 'banana', 'carrot']\n"
          ]
        }
      ]
    },
    {
      "cell_type": "markdown",
      "source": [
        "\n",
        "\n",
        "And you may notice that when we print the value of `result`, the value is a `list` just like the parameter we put into the `.output()`.\n",
        "\n",
        "In Agently framework we've done a lot of work like this to make it easier for developers to integrate Agent instances into their business code. This will allow developers to focus on how to build their business logic instead of figure out how to cater to language models or how to keep models satisfied.\n",
        "\n"
      ],
      "metadata": {
        "id": "xknLgE_5BoBQ"
      }
    },
    {
      "cell_type": "markdown",
      "source": [
        "# To Build AI Agent Native Application Module in an Incredible Easy Way\n",
        "\n"
      ],
      "metadata": {
        "id": "B7z7y9KOFQh7"
      }
    }
  ]
}