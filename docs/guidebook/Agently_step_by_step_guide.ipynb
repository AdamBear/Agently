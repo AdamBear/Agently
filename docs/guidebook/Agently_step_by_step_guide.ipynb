{
  "nbformat": 4,
  "nbformat_minor": 0,
  "metadata": {
    "colab": {
      "provenance": [],
      "toc_visible": true,
      "authorship_tag": "ABX9TyMZf0VagLpvQvoDg9nERBHe",
      "include_colab_link": true
    },
    "kernelspec": {
      "name": "python3",
      "display_name": "Python 3"
    },
    "language_info": {
      "name": "python"
    }
  },
  "cells": [
    {
      "cell_type": "markdown",
      "metadata": {
        "id": "view-in-github",
        "colab_type": "text"
      },
      "source": [
        "<a href=\"https://colab.research.google.com/github/Maplemx/Agently/blob/main/docs/guidebook/Agently_step_by_step_guide.ipynb\" target=\"_parent\"><img src=\"https://colab.research.google.com/assets/colab-badge.svg\" alt=\"Open In Colab\"/></a>"
      ]
    },
    {
      "cell_type": "markdown",
      "source": [
        "# **_<font color = \"red\">Agent</font><font color = \"blue\">ly</font>_ AI应用开发框架由浅入深的应用开发指导**\n",
        "\n",
        "**Getting Started with _<font color = \"red\">Agent</font><font color = \"blue\">ly</font>_: A Step-by-Step Guide for Developers**"
      ],
      "metadata": {
        "id": "TMP1Pn9g65hF"
      }
    },
    {
      "cell_type": "markdown",
      "source": [
        "## 第一章：框架介绍\n",
        "\n",
        "**<font color = \"red\">Agent</font><font color = \"blue\">ly</font> AI应用开发框架**是一个开源的AI Agent原生应用开发框架，Github仓库主页：[https://github.com/Maplemx/Agently](https://github.com/Maplemx/Agently)\n",
        "\n",
        "您也可以通过我们的官方网址[Agently.cn](http://Agently.cn)或是[Agently.tech](http://Agently.tech)进行访问。\n",
        "\n",
        "**<font color = \"red\">Agent</font><font color = \"blue\">ly</font> 框架**具有如下特点：\n",
        "\n",
        "- **🚀 快速开始**：只需要很少的几行代码，就可以开始创建你的大语言模型驱动的应用；\n",
        "- **💬 表达轻松**：框架特有的面向agent对象设计，结合链式表达、代码变量直接输入、结构化数据输出等特性，能够帮助你轻松快速地将自己的业务代码和框架生成的agent对象实例操作进行结合；\n",
        "- **🧩 插件增强**：框架采用了插件式增强的设计，并在持续更新新的插件，你可以通过插件获得对更多模型的适配、agent请求过程监听、自定义工具注册和调用、多轮对话记录自动存储、角色管理、agent状态管理和行为修正映射等各式各样的能力，如果你有更多新的能力构思，也可以创建自己的自定义插件对agent能力进行增量更新，而不是重新开发整个agent；\n",
        "- **🔓 开源开放**：我们是一个开源项目，框架源码透明可见，并且非常欢迎开发者加入我们的开源社群，找到自己的定位和角色，开发应用、更新插件或是优化框架核心代码，共同讨论框架未来的发展。\n",
        "\n",
        "### 相关资源\n",
        "\n",
        "除了这份《由浅入深的应用开发指导》外，我们的Github仓库主页中还有更多相关文档，大部分文档都使用了Jupyter格式，并且支持一键导入Google Colab进行在线试用。\n",
        "\n",
        "**说明文档：**\n",
        "\n",
        "- [Agently 3.0 框架概念介绍](https://github.com/Maplemx/Agently/blob/main/docs/guidebook/introduction.ipynb)\n",
        "- [Agently 3.0 应用开发功能说明文档](https://github.com/Maplemx/Agently/blob/main/docs/guidebook/application_development_handbook.ipynb)\n",
        "\n",
        "**案例广场：**\n",
        "\n",
        "构建不同领域的Agent示例：\n",
        "\n",
        "- [根据自然语言生成SQL的提数小帮手Agent](https://github.com/Maplemx/Agently/blob/main/playground/sql_generator.ipynb)\n",
        "- [根据问卷进行反馈收集的问卷调查Agent](https://github.com/Maplemx/Agently/blob/main/playground/survey_agent_asks_questions_according_form.ipynb)\n",
        "- [自带搜索技能的少儿教师Agent](https://github.com/Maplemx/Agently/blob/main/playground/teacher_with_search_ability_for_kids.ipynb)\n",
        "- [根据图片以及文案样例生成广告文案的营销Agent](https://github.com/Maplemx/Agently/blob/main/playground/writing_ad_copies_according_image.ipynb)\n",
        "- [根据用户简单输入，自动创建人设，并能够在多个状态间切换的角色扮演Agent](https://github.com/Maplemx/Agently/blob/main/playground/character_change_behaviours_according_mood_status.ipynb)\n",
        "- [能够使用工具（框架内置工具或自定义工具）的Agent](https://github.com/Maplemx/Agently/blob/main/playground/using_tools_to_enhance_your_agent.ipynb)\n",
        "- [在游戏场景中为NPC提供行动选项和演出台词的Agent](https://github.com/Maplemx/Agently/blob/main/playground/NPC_in_game_generate_choices_using_google_gemini.ipynb)\n",
        "\n",
        "在代码逻辑中寻求Agent的支持：\n",
        "\n",
        "- [基于长文本，生成与文本内容相关的问答对](https://github.com/Maplemx/Agently/blob/main/playground/long_text_to_qa_pairs.ipynb)\n",
        "- [在回复用户前，对Agent回复进行人工介入检查](https://github.com/Maplemx/Agently/blob/main/playground/human_step_in_before_reply.ipynb)\n",
        "- [在多个头尾文本对里寻找可连接的文本对](https://github.com/Maplemx/Agently/blob/main/playground/finding_connectable_pairs_from_text_tailers_and_headers.ipynb)\n",
        "- [通过接待Agent引导用户和自己具有权限的职能Agent互动](https://github.com/Maplemx/Agently/blob/main/playground/routing_to_different_agent_group_for_users_with_different_authorities.ipynb)\n",
        "- [使用函数装饰器，让Agent帮你完成仅有注释的函数指定的任务](https://github.com/Maplemx/Agently/blob/main/playground/generate_agent_powered_function_in_runtime_using_decorator.ipynb)\n",
        "\n",
        "更多案例持续更新，访问我们的[Playground案例广场](https://github.com/Maplemx/Agently/tree/main/playground)即可查看"
      ],
      "metadata": {
        "id": "5Nc1Awu77uKj"
      }
    },
    {
      "cell_type": "markdown",
      "source": [
        "## 第二章：安装并快速熟悉框架的基本特性\n",
        "\n",
        "### 安装准备"
      ],
      "metadata": {
        "id": "2iawexPDff1r"
      }
    },
    {
      "cell_type": "markdown",
      "source": [
        "本地环境下，您只需要在shell中输入`pip install -U Agently`即可完成安装\n",
        "\n",
        "如果您使用Jupyter或是Colab，可以直接通过运行下面的代码块进行安装："
      ],
      "metadata": {
        "id": "5GWd3jqtgP0W"
      }
    },
    {
      "cell_type": "code",
      "source": [
        "!pip install -U Agently"
      ],
      "metadata": {
        "id": "R2D6GmAOgNHT"
      },
      "execution_count": null,
      "outputs": []
    },
    {
      "cell_type": "markdown",
      "source": [
        "### 快速熟悉框架的基本特性"
      ],
      "metadata": {
        "id": "WUM8TjWxgne0"
      }
    },
    {
      "cell_type": "markdown",
      "source": [
        "**配置并创建Agent实例**"
      ],
      "metadata": {
        "id": "HQvJ4DYfjFLA"
      }
    },
    {
      "cell_type": "code",
      "source": [
        "import Agently\n",
        "\n",
        "# 创建一个Agent工厂实例\n",
        "agent_factory = (\n",
        "    Agently.AgentFactory()\n",
        "        # 给Agent工厂实例提供设置项：\n",
        "        ## 将默认模型系列设置为智谱系列\n",
        "        .set_settings(\"current_model\", \"ZhipuAI\")\n",
        "        ## 提供你的智谱线上模型API-KEY\n",
        "        .set_settings(\"model.ZhipuAI.auth\", { \"api_key\": \"\" })\n",
        "        ## 模型默认为GLM-4，如果想要指定为GLM-3-turbo可以解除下面代码的注释\n",
        "        #.set_settings(\"model.ZhipuAI.options\", { \"model\": \"glm-3-turbo\" })\n",
        ")\n",
        "\n",
        "# 从Agent工厂实例中创建Agent实例\n",
        "## 你可以创建很多个Agent实例，它们都会继承Agent工厂的设置项\n",
        "## 也就是说，你不需要再为每一个Agent实例指定模型、输入授权\n",
        "agent = agent_factory.create_agent()\n",
        "\n",
        "## 当然，你也可以为特定的Agent实例指定它独特的配置项\n",
        "## 例如，我们让下面这个agent使用GLM-3-turbo模型进行驱动\n",
        "agent_GLM_3 = (\n",
        "    agent_factory.create_agent()\n",
        "        .set_settings(\"model.ZhipuAI.options\", { \"model\": \"glm-3-turbo\" })\n",
        ")"
      ],
      "metadata": {
        "id": "pT36TUuSgvF2"
      },
      "execution_count": 5,
      "outputs": []
    },
    {
      "cell_type": "markdown",
      "source": [
        "**开始使用Agent实例吧**"
      ],
      "metadata": {
        "id": "RmfdzPIUjJ4g"
      }
    },
    {
      "cell_type": "code",
      "source": [
        "result = (\n",
        "    agent\n",
        "        # 支持str格式输入\n",
        "        .input(\"给我输出3个单词和2个句子\")\n",
        "        # 支持K-V式参数输入\n",
        "        .instruct(\"输出语言\", \"中文\")\n",
        "        # 支持dict格式输入\n",
        "        # 并且通过框架特有的(<type>, <desc，可省略>)语法格式描述生成元素\n",
        "        .output({\n",
        "            \"单词\": [(\"str\", )],\n",
        "            \"句子\": (\"list\", ),\n",
        "        })\n",
        "        .start()\n",
        ")\n",
        "print(result)"
      ],
      "metadata": {
        "colab": {
          "base_uri": "https://localhost:8080/"
        },
        "id": "etOSfHPXjUky",
        "outputId": "c9996f89-08ae-4e75-b0b8-73504e54d841"
      },
      "execution_count": 7,
      "outputs": [
        {
          "output_type": "stream",
          "name": "stdout",
          "text": [
            "{'单词': ['苹果', '电脑', '学习'], '句子': ['我喜欢吃苹果。', '他用电脑工作。']}\n"
          ]
        }
      ]
    }
  ]
}