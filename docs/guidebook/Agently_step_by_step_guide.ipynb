{
  "nbformat": 4,
  "nbformat_minor": 0,
  "metadata": {
    "colab": {
      "provenance": [],
      "toc_visible": true,
      "authorship_tag": "ABX9TyNLRpttvUbjXUF2YhfUxaZ4",
      "include_colab_link": true
    },
    "kernelspec": {
      "name": "python3",
      "display_name": "Python 3"
    },
    "language_info": {
      "name": "python"
    }
  },
  "cells": [
    {
      "cell_type": "markdown",
      "metadata": {
        "id": "view-in-github",
        "colab_type": "text"
      },
      "source": [
        "<a href=\"https://colab.research.google.com/github/Maplemx/Agently/blob/main/docs/guidebook/Agently_step_by_step_guide.ipynb\" target=\"_parent\"><img src=\"https://colab.research.google.com/assets/colab-badge.svg\" alt=\"Open In Colab\"/></a>"
      ]
    },
    {
      "cell_type": "markdown",
      "source": [
        "# **_<font color = \"red\">Agent</font><font color = \"blue\">ly</font>_ AI应用开发框架由浅入深的应用开发指导**\n",
        "\n",
        "**Getting Started with _<font color = \"red\">Agent</font><font color = \"blue\">ly</font>_: A Step-by-Step Guide for Developers**"
      ],
      "metadata": {
        "id": "TMP1Pn9g65hF"
      }
    },
    {
      "cell_type": "markdown",
      "source": [
        "## 第一章：框架介绍\n",
        "\n",
        "**<font color = \"red\">Agent</font><font color = \"blue\">ly</font> AI应用开发框架**是一个开源的AI Agent原生应用开发框架，Github仓库主页：[https://github.com/Maplemx/Agently](https://github.com/Maplemx/Agently)\n",
        "\n",
        "您也可以通过我们的官方网址[Agently.cn](http://Agently.cn)或是[Agently.tech](http://Agently.tech)进行访问。\n",
        "\n",
        "**<font color = \"red\">Agent</font><font color = \"blue\">ly</font> 框架**具有如下特点：\n",
        "\n",
        "- **🚀 快速开始**：只需要很少的几行代码，就可以开始创建你的大语言模型驱动的应用；\n",
        "- **💬 表达轻松**：框架特有的面向agent对象设计，结合链式表达、代码变量直接输入、结构化数据输出等特性，能够帮助你轻松快速地将自己的业务代码和框架生成的agent对象实例操作进行结合；\n",
        "- **🧩 插件增强**：框架采用了插件式增强的设计，并在持续更新新的插件，你可以通过插件获得对更多模型的适配、agent请求过程监听、自定义工具注册和调用、多轮对话记录自动存储、角色管理、agent状态管理和行为修正映射等各式各样的能力，如果你有更多新的能力构思，也可以创建自己的自定义插件对agent能力进行增量更新，而不是重新开发整个agent；\n",
        "- **🔓 开源开放**：我们是一个开源项目，框架源码透明可见，并且非常欢迎开发者加入我们的开源社群，找到自己的定位和角色，开发应用、更新插件或是优化框架核心代码，共同讨论框架未来的发展。\n",
        "\n",
        "### 相关资源\n",
        "\n",
        "除了这份《由浅入深的应用开发指导》外，我们的Github仓库主页中还有更多相关文档，大部分文档都使用了Jupyter格式，并且支持一键导入Google Colab进行在线试用。\n",
        "\n",
        "**说明文档：**\n",
        "\n",
        "- [Agently 3.0 框架概念介绍](https://github.com/Maplemx/Agently/blob/main/docs/guidebook/introduction.ipynb)\n",
        "- [Agently 3.0 应用开发功能说明文档](https://github.com/Maplemx/Agently/blob/main/docs/guidebook/application_development_handbook.ipynb)\n",
        "\n",
        "**案例广场：**\n",
        "\n",
        "构建不同领域的Agent示例：\n",
        "\n",
        "- [根据自然语言生成SQL的提数小帮手Agent](https://github.com/Maplemx/Agently/blob/main/playground/sql_generator.ipynb)\n",
        "- [根据问卷进行反馈收集的问卷调查Agent](https://github.com/Maplemx/Agently/blob/main/playground/survey_agent_asks_questions_according_form.ipynb)\n",
        "- [自带搜索技能的少儿教师Agent](https://github.com/Maplemx/Agently/blob/main/playground/teacher_with_search_ability_for_kids.ipynb)\n",
        "- [根据图片以及文案样例生成广告文案的营销Agent](https://github.com/Maplemx/Agently/blob/main/playground/writing_ad_copies_according_image.ipynb)\n",
        "- [根据用户简单输入，自动创建人设，并能够在多个状态间切换的角色扮演Agent](https://github.com/Maplemx/Agently/blob/main/playground/character_change_behaviours_according_mood_status.ipynb)\n",
        "- [能够使用工具（框架内置工具或自定义工具）的Agent](https://github.com/Maplemx/Agently/blob/main/playground/using_tools_to_enhance_your_agent.ipynb)\n",
        "- [在游戏场景中为NPC提供行动选项和演出台词的Agent](https://github.com/Maplemx/Agently/blob/main/playground/NPC_in_game_generate_choices_using_google_gemini.ipynb)\n",
        "- [通过接待Agent引导用户和自己具有权限的职能Agent互动](https://github.com/Maplemx/Agently/blob/main/playground/routing_to_different_agent_group_for_users_with_different_authorities.ipynb)\n",
        "\n",
        "在代码逻辑中寻求Agent的支持：\n",
        "\n",
        "- [基于长文本，生成与文本内容相关的问答对](https://github.com/Maplemx/Agently/blob/main/playground/long_text_to_qa_pairs.ipynb)\n",
        "- [在回复用户前，对Agent回复进行人工介入检查](https://github.com/Maplemx/Agently/blob/main/playground/human_step_in_before_reply.ipynb)\n",
        "- [在多个头尾文本对里寻找可连接的文本对](https://github.com/Maplemx/Agently/blob/main/playground/finding_connectable_pairs_from_text_tailers_and_headers.ipynb)\n",
        "- [配合AsyncIO使用异步编程，实现串行依赖和并发请求编排](https://github.com/Maplemx/Agently/blob/main/playground/concurrency_and_asynchornous_dependency.ipynb)\n",
        "- [使用函数装饰器，让Agent帮你完成仅有注释的函数指定的任务](https://github.com/Maplemx/Agently/blob/main/playground/generate_agent_powered_function_in_runtime_using_decorator.ipynb)\n",
        "\n",
        "更多案例持续更新，访问我们的[Playground案例广场](https://github.com/Maplemx/Agently/tree/main/playground)即可查看"
      ],
      "metadata": {
        "id": "5Nc1Awu77uKj"
      }
    },
    {
      "cell_type": "markdown",
      "source": [
        "## 第二章：安装并快速熟悉框架的基本特性"
      ],
      "metadata": {
        "id": "2iawexPDff1r"
      }
    },
    {
      "cell_type": "markdown",
      "source": [
        "### 安装准备\n",
        "\n",
        "本地环境下，您只需要在shell中输入`pip install -U Agently`即可完成安装\n",
        "\n",
        "如果您使用Jupyter或是Colab，可以直接通过运行下面的代码块进行安装："
      ],
      "metadata": {
        "id": "KsBchKQp0zNc"
      }
    },
    {
      "cell_type": "code",
      "source": [
        "!pip install -U Agently"
      ],
      "metadata": {
        "id": "R2D6GmAOgNHT"
      },
      "execution_count": null,
      "outputs": []
    },
    {
      "cell_type": "markdown",
      "source": [
        "### 快速熟悉框架的基本特性"
      ],
      "metadata": {
        "id": "WUM8TjWxgne0"
      }
    },
    {
      "cell_type": "markdown",
      "source": [
        "**配置并创建Agent实例**\n",
        "\n",
        "> ⚠️：如果您使用Colab或Jupyter一边阅读本文档一边实践，在每次重新启动服务时，需要先运行安装和下面这段配置和创建Agent实例的代码块，以确保后续代码块中的agent实例能够正常工作。\n",
        ">\n",
        "> ℹ️：如果您在后续代码执行中，需要重置agent实例的状态，也可以通过重新运行本段代码的方式重置"
      ],
      "metadata": {
        "id": "HQvJ4DYfjFLA"
      }
    },
    {
      "cell_type": "code",
      "source": [
        "import Agently\n",
        "\n",
        "# 创建一个Agent工厂实例\n",
        "agent_factory = (\n",
        "    Agently.AgentFactory()\n",
        "        # 给Agent工厂实例提供设置项：\n",
        "        ## 将默认模型系列设置为智谱系列\n",
        "        .set_settings(\"current_model\", \"ZhipuAI\")\n",
        "        ## 提供你的智谱线上模型API-KEY\n",
        "        .set_settings(\"model.ZhipuAI.auth\", { \"api_key\": \"\" })\n",
        "        ## 模型默认为GLM-4，如果想要指定为GLM-3-turbo可以解除下面代码的注释\n",
        "        #.set_settings(\"model.ZhipuAI.options\", { \"model\": \"glm-3-turbo\" })\n",
        ")\n",
        "\n",
        "# 从Agent工厂实例中创建Agent实例\n",
        "## 你可以创建很多个Agent实例，它们都会继承Agent工厂的设置项\n",
        "## 也就是说，你不需要再为每一个Agent实例指定模型、输入授权\n",
        "agent = agent_factory.create_agent()\n",
        "\n",
        "## 当然，你也可以为特定的Agent实例指定它独特的配置项\n",
        "## 例如，我们让下面这个agent使用GLM-3-turbo模型进行驱动\n",
        "agent_GLM_3 = (\n",
        "    agent_factory.create_agent()\n",
        "        .set_settings(\"model.ZhipuAI.options\", { \"model\": \"glm-3-turbo\" })\n",
        ")"
      ],
      "metadata": {
        "id": "pT36TUuSgvF2"
      },
      "execution_count": 5,
      "outputs": []
    },
    {
      "cell_type": "markdown",
      "source": [
        "**开始使用Agent实例吧**"
      ],
      "metadata": {
        "id": "RmfdzPIUjJ4g"
      }
    },
    {
      "cell_type": "code",
      "source": [
        "result = (\n",
        "    agent\n",
        "    # 你也可以更换成agent_GLM_3看看输出效果\n",
        "    #agent_GLM_3\n",
        "        # 支持str格式输入\n",
        "        .input(\"给我输出3个单词和2个句子\")\n",
        "        # 支持K-V式参数输入\n",
        "        .instruct(\"输出语言\", \"中文\")\n",
        "        # 支持dict格式输入\n",
        "        # 并且通过框架特有的(<type>, <desc，可省略>)语法格式描述生成元素\n",
        "        .output({\n",
        "            \"单词\": [(\"str\", )],\n",
        "            \"句子\": (\"list\", ),\n",
        "        })\n",
        "        .start()\n",
        ")\n",
        "print(result)"
      ],
      "metadata": {
        "colab": {
          "base_uri": "https://localhost:8080/"
        },
        "id": "etOSfHPXjUky",
        "outputId": "313ea247-4d6d-4697-b748-dd961ed38729"
      },
      "execution_count": 6,
      "outputs": [
        {
          "output_type": "stream",
          "name": "stdout",
          "text": [
            "{'单词': ['苹果', '电脑', '学习'], '句子': ['我喜欢吃苹果。', '他用电脑工作。']}\n"
          ]
        }
      ]
    },
    {
      "cell_type": "markdown",
      "source": [
        "**常见问题**\n",
        "\n",
        "**1. 只能使用一种模型吗？**\n",
        "\n",
        "当然不是，你可以通过阅读[开发功能说明文档](https://github.com/Maplemx/Agently/blob/main/docs/guidebook/application_development_handbook.ipynb)的《Model Request》章节查看目前框架已经适配的模型，并按说明进行配置。你可以放心切换模型，而不用担心已经使用框架表达方式写好的业务流程代码，框架已经帮助你做好了业务流程代码和模型适配之间的依赖解耦。\n",
        "\n",
        "**2. 支持设置代理（Proxy）吗？**\n",
        "\n",
        "因为特殊的原因，在某些地区如果需要访问模型的在线API，需要使用代理（Proxy），Agently框架为这种特殊场景提供设置代理（Proxy）的支持，你只需要使用以下方式进行设置即可：\n",
        "\n",
        "```python\n",
        "# 你可以对Agent工厂实例进行设置\n",
        "agent_factory.set_proxy(\"http://127.0.0.1:7890\") # <- 更换为你的本地代理地址\n",
        "# 你也可以对单个agent实例进行设置\n",
        "agent.set_proxy(\"http://127.0.0.1:7890\")\n",
        "# 当然了，你也可以通过类似的设置方式，为单个agent指定模型并设置代理\n",
        "(agent\n",
        "    .set_settings(\"current_model\", \"Google\")\n",
        "    .set_settings(\"model.Google.auth.api_key\", \"YOUR-GOOGLE-API-KEY\")\n",
        "    .set_proxy(\"http://127.0.0.1:7890\")\n",
        ")\n",
        "\n",
        "```\n",
        "\n",
        "目前支持使用代理的模型包括：`OpenAI GPT`、`Google Gemini`\n",
        "\n",
        "**3. 我的应用只需要使用一个Agent实例，还需要使用Agent Factory这么复杂的创建方式吗？**\n",
        "\n",
        "Agent工厂这种设计模式主要是为了方便将配置信息传递给所有由工厂创建的Agent实例，如果你确定只需要使用一个Agent实例，下面这种创建方式会是一种更简单的方案："
      ],
      "metadata": {
        "id": "oILlxlxK0ZTM"
      }
    },
    {
      "cell_type": "code",
      "source": [
        "import Agently\n",
        "\n",
        "agent = (\n",
        "    Agently.create_agent()\n",
        "        .set_settings(\"current_model\", \"ZhipuAI\")\n",
        "        .set_settings(\"model.ZhipuAI.auth\", { \"api_key\": \"\" })\n",
        ")"
      ],
      "metadata": {
        "id": "r43ByCeF4RVx"
      },
      "execution_count": null,
      "outputs": []
    },
    {
      "cell_type": "markdown",
      "source": [
        "**4. Agent实例上只有.input()，.instruct()，.output()这么简单的几个操作指令吗？**\n",
        "\n",
        "当然不止，上面的案例只是展示了最基本的交互指令，但它已经能够说明框架的基本特性：`你可以在代码中创建agent对象实例，并像请求函数一样和它交互`。\n",
        "\n",
        "接下来我们会在本文档中逐步介绍更多好玩的特性和用法。\n",
        "\n",
        "如果你非常好奇Agent实例上到底有多少可操作的指令，可以尝试运行下面的代码块得到答案："
      ],
      "metadata": {
        "id": "Z3Ekso2w4V1m"
      }
    },
    {
      "cell_type": "code",
      "source": [
        "agent.alias_manager.print_alias_info()"
      ],
      "metadata": {
        "id": "fFAe57Uy3yzi"
      },
      "execution_count": null,
      "outputs": []
    },
    {
      "cell_type": "markdown",
      "source": [
        "并且，这些指令可以随着Agent能力组件插件的添加而持续增加，让你的Agent实例变得更加强大。"
      ],
      "metadata": {
        "id": "ZrJqAU5o4OgE"
      }
    },
    {
      "cell_type": "markdown",
      "source": [
        "## 第三章：Agent实例的基础请求指令\n",
        "\n",
        "和某些Agent框架不同，Agently框架提供的Agent实例在创建时并不会限定Agent实例的工作目标，要让Agent进行规划（Planning）、行动（Action）还是批判性思考（Critical Thinking），都是由开发者决定的。\n",
        "\n",
        "Agently框架将Agent实例与模型进行的一次主要请求交互`见注1`视作一个原子节点，通过.start()命令触发。通过将多个原子节点串联，要如何让Agent实例行动起来，这就看开发者如何对Agent实例发起请求指令了。\n",
        "\n",
        "> `注1:之所以使用“主要请求交互”这种说法，是因为在某些请求交互过程中，会触发对模型的前置请求，例如工具使用时，在对输入进行正式回复前，会通过模型进行工具使用规划和使用参数生成，并将工具生成结果结合到正式回复请求中，在这种情况下，“主要请求交互”并不等于“只对模型进行一次请求”。`"
      ],
      "metadata": {
        "id": "aXagn0eX4nP_"
      }
    },
    {
      "cell_type": "markdown",
      "source": [
        "### 基础请求指令代码样例\n",
        "\n",
        "在进一步解释相关概念前，我们先来看下面的代码样例："
      ],
      "metadata": {
        "id": "SojjLhyC8Qzr"
      }
    },
    {
      "cell_type": "code",
      "source": [
        "result = (\n",
        "    agent\n",
        "        # general: agent应该知道的全局信息，通常被视作system prompt或类似位置的信息\n",
        "        .general(\"输出规定\", \"必须使用中文进行输出\")\n",
        "        # role: agent自身的角色设定信息\n",
        "        .role({\n",
        "            \"姓名\": \"Agently小助手\",\n",
        "            \"任务\": \"使用自己的知识为用户解答常见问题\",\n",
        "        })\n",
        "        # user_info: agent需要了解的用户相关的信息\n",
        "        .user_info(\"和你对话的用户是一个只具有Python编程基础知识的入门初学者\")\n",
        "        # abstract: 对于之前对话（尤其是较长对话）的总结信息\n",
        "        .abstract(None)\n",
        "        # chat_history: 按照OpenAI消息列格式的对话记录list\n",
        "        ## 支持:\n",
        "        ## [{ \"role\": \"system\", \"content\": \"\" },\n",
        "        ##  { \"role\": \"assistant\", \"content\": \"\" },\n",
        "        ##  { \"role\": \"user\", \"content\": \"\" }]\n",
        "        ## 三种角色\n",
        "        .chat_history([])\n",
        "        # input: 和本次请求相关的输入信息\n",
        "        .input({\n",
        "            \"question\": \"请问Python中协程和线程的关系和区别是什么？\",\n",
        "            \"reply_style_expect\": \"请用对编程概念零基础的人能理解的方式进行回复\"\n",
        "        })\n",
        "        # info: 为本次请求提供的额外补充信息\n",
        "        .info(\"协程相关关键词\", [\"asyncio\", \"coroutine\", \"event loop\"])\n",
        "        .info(\"线程相关关键词\", [\"threads\", \"queue\"])\n",
        "        # instruct: 为本次请求提供的行动指导信息\n",
        "        .instruct([\n",
        "            \"请使用{reply_style_expect}的回复风格，回复{question}提出的问题\",\n",
        "        ])\n",
        "        # output: 对本次请求的输出提出格式和内容的要求\n",
        "        .output({\n",
        "            \"reply\": (\"str\", \"对{question}的直接回复\"),\n",
        "            \"next_questions\": ([\n",
        "                (\"str\",\n",
        "                 \"根据{reply}内容，结合{user_info}提供的用户信息，\" +\n",
        "                 \"给用户推荐的可以进一步提问的问题\"\n",
        "                )], \"不少于3个\"),\n",
        "        })\n",
        "        # start: 用于开始本次主要交互请求\n",
        "        .start()\n",
        ")\n",
        "print(result)"
      ],
      "metadata": {
        "colab": {
          "base_uri": "https://localhost:8080/"
        },
        "id": "dD3JCLSl8KDn",
        "outputId": "57bc64cd-98af-401f-b742-cf579cdca0c0"
      },
      "execution_count": null,
      "outputs": [
        {
          "output_type": "stream",
          "name": "stdout",
          "text": [
            "{'reply': '在Python中，协程和线程都是用来实现多任务的方法，但它们有一些关键的不同。想象你正在组织一场多人篮球赛，线程就像是一个个球员，他们可以同时上场打球，但是一次只能有一个球员控制球。协程更像是一种传球策略，球员们可以快速传递球，而且传球的过程中其他球员也可以做其他动作，这样就能更高效地利用球场。\\n\\n   - 线程是由操作系统管理的，就像球员需要依赖场上的规则一样。每个线程都是一个独立的执行流程，但是线程的创建和上下文切换开销相对较大。\\n   - 协程是Python编写者在代码层面上控制的，就像是球员之间商量好的传球策略。协程可以在单个线程内被挂起和恢复，并且由asyncio库的事件循环来调度，这样可以减少线程切换的开销。\\n\\n主要的区别包括：\\n   - 线程是并行执行的，协程是协作式多任务。\\n   - 线程有更重的资源开销，协程更轻量级。\\n   - 线程受到GIL（全局解释器锁）的限制，协程可以通过事件循环更好地利用单核CPU。\\n\\n那么，接下来你可能对这些话题感兴趣：\\n   1. 什么是asyncio和事件循环？\\n   2. 如何在Python中创建和使用协程？\\n   3. Python的全局解释器锁（GIL）是什么，它对多线程有什么影响？\\n   4. 在实际项目中，我应该使用线程还是协程呢？', 'next_questions': ['我能举一个使用协程的简单例子吗？', 'Python中的async和await关键字是如何工作的？', '如果我想深入了解线程，有哪些好的学习资源或实践项目推荐？']}\n"
          ]
        }
      ]
    },
    {
      "cell_type": "markdown",
      "source": [
        "### 基础请求指令列表\n",
        "\n",
        "- `.general()`: agent应该知道的全局信息，通常被视作system prompt或类似位置的信息\n",
        "- `.role()`: agent自身的角色设定信息\n",
        "- `.user_info()`: agent需要了解的用户相关的信息\n",
        "- `.abstract()`: 对于之前对话（尤其是较长对话）的总结信息\n",
        "- `.chat_history()`: 按照OpenAI消息列格式的对话记录list\n",
        "- `.input()`: 和本次请求相关的输入信息\n",
        "- `.info()`: 为本次请求提供的额外补充信息\n",
        "- `.instruct()`: 为本次请求提供的行动指导信息\n",
        "- `.output()`: 对本次请求的输出提出格式和内容的要求\n",
        "- `.start()`: 开始本次主要交互请求"
      ],
      "metadata": {
        "id": "lQ0lUpQdBTqc"
      }
    },
    {
      "cell_type": "markdown",
      "source": [
        "### 基础请求指令用法\n",
        "\n",
        "1. **并不是每次请求都需要把所有指令都用上**，按你需要的选择指令即可，`agent.input().start()`是最简单的请求方案，使用这种方案和自行构造prompt请求模型的效果是一样的；\n",
        "2. 除了`.chat_history()`指令必须传递消息列list，`.start()`通常不传递值之外，**其他指令可以接受几乎任何一种常见格式的数据**，如str, bool, int, float, dict, list, set等；\n",
        "3. 如果想要对某一类指令传递多个信息，可以使用**Key-Value方式**进行传递，如上面例子中的`.info()`部分，也可以通过**list方式**传入多条信息，如上面例子中的`.instruct()`部分；\n",
        "4. `.output()`指令如果**传入str字符串，会正常返回一段字符串**，如果**传入dict字典或是list列表，则可以使用Agently框架提供的结构表达语法格式进行表达，获得对应结构的生成结果**，详见下一小节。"
      ],
      "metadata": {
        "id": "V1vfOSn6DcCx"
      }
    },
    {
      "cell_type": "markdown",
      "source": [
        "### 使用Output输出结构表达语法格式\n",
        "\n",
        "在代码开发过程中，我们往往需要使用结构化的数据而非自然松散的字符串文本来进行信息存储和传递。这类结构化的数据往往还不是只有一个层级的简单字典(dict)或是只存放一些字符串的列表(list)，而是一种更加复杂综合的结构。\n",
        "\n",
        "例如，在上面的例子中，我们获得的结果是这样的：\n",
        "\n",
        "```python\n",
        "{ 'reply': '在Python中...',\n",
        "  'next_questions': [\n",
        "      '我能举一个使用协程的简单例子吗？',\n",
        "      'Python中的async和await关键字是如何工作的？',\n",
        "      '如果我想深入了解线程，有哪些好的学习资源或实践项目推荐？'\n",
        "  ],\n",
        "}\n",
        "```\n",
        "这是一个复杂的字典结构，通过Output输出结构表达语法，我们可以直接从请求中使用`result = agent....start()`变量赋值的方式回收这个字典结果，并且用`result[\"reply\"]`等方式直接使用字典中的字段值。\n",
        "\n",
        "要实现这样的输出效果，我们需要让模型理解，在生成结果的时候，我们需要得到一个具有两个字段的字典结果。其中在`reply`字段中，我们需要得到一个长文本字符串，用于存放对用户问题的回复答案。同时，在`next_questions`字段中，我们需要得到一个列表，用于存放针对本次问答可以进一步提出的问题清单，且我们希望这个问题清单里的问题不要少于3个。\n",
        "\n",
        "那么我们在使用Agently框架的Output输出结构表达语法时，应该如何思考呢？\n",
        "\n",
        "首先，**确定期望输出的数据结构**：\n",
        "\n",
        "按照上面的描述，我们期望得到的数据结构如下：\n",
        "\n",
        "```python\n",
        "{\n",
        "    \"reply\": str,\n",
        "    \"next_questions\": [str]\n",
        "}\n",
        "```\n",
        "\n",
        "如果我们将`str`、`int`、`bool`、`float`等类型的数值看作输出中的带有具体内容的值节点，那么上面这个结构则表达了我们希望输出的结构特征。\n",
        "\n",
        "接下来，我们使用**输出结构表达语法中元组(tuple)的特殊用法**来表达对值节点的输出期望：\n",
        "\n",
        "因为在输出的数据中，我们几乎不会用到元组(tuple)这种数据结构，因此Agently框架赋予了元组新的含义：**通过`(\"<类型描述>\", \"<输出内容期望>\")`的格式，描述对具体内容的值节点的输出期望**。\n",
        "\n",
        "例如，我们希望在`reply`节点中获得对本次提问的直接回复，我们就可以做如下表达：\n",
        "\n",
        "```python\n",
        "# (\"<类型描述>\", \"<输出内容期望>\")\n",
        "(\"str\", \"对本次提问的直接回复\")\n",
        "```\n",
        "\n",
        "如果我们希望做更明确的信息指向，比如希望对“本次提问”到底指的是哪部分信息做出明确指向，我们可以使用`{}`进行指向标注，如果我们希望明确表达这个具体的信息是从哪部分信息块中来的，可以使用`{信息块.具体字段名}`的方式进行表达：\n",
        "\n",
        "```python\n",
        "(\"str\", \"对{input.question}的直接回复\")\n",
        "```\n",
        "\n",
        "可能也有人注意到，有时候我们需要对list结构做一些额外的说明，比如约定list结构中输出的结果的数量，我们也可以将结构嵌入元组表达中，例如：\n",
        "\n",
        "```python\n",
        "([], \"最少输出3个结果\")\n",
        "```\n",
        "\n",
        "而在元组中的结构，还可以继续嵌入元组表达：\n",
        "\n",
        "```python\n",
        "([(\"str\", \"根据{reply}可以进一步提出的问题\")], \"最少输出3个结果\")\n",
        "```\n",
        "\n",
        "最后，**整合上面两步，形成完整的输出结构表达，并放入.output()请求中**：\n",
        "\n",
        "```python\n",
        ".output({\n",
        "    \"reply\": (\"str\", \"对{input.question}的直接回复\"),\n",
        "    \"next_questions\": (\n",
        "        [ (\"str\", \"根据{reply}可以进一步提出的问题\") ],\n",
        "        \"最少输出3个结果\"\n",
        "    ),\n",
        "})\n",
        "```"
      ],
      "metadata": {
        "id": "cFi7tB1rE3uK"
      }
    },
    {
      "cell_type": "markdown",
      "source": [
        "## 第四章：基于基础请求指令的高级Prompt构造技巧"
      ],
      "metadata": {
        "id": "txzg9oYSMvxf"
      }
    },
    {
      "cell_type": "markdown",
      "source": [
        "众所周知，基于Transformer的模型在生成下一个输出块时，会使用所有的输入提示信息加上已经生成的输出块内容作为计算依据。正是基于这样的特性，使得我们通过合理构造输出顺序，通过前几步生成的内容提示下一步生成的内容成为可能，可以将这种构造技巧视作一种思维链（CoT）方法。通过这种构造方法，我们可以实现行动流提示、分支逻辑判断、自我批判修正、确保关键信息纯净度等好玩的高级技巧。"
      ],
      "metadata": {
        "id": "a7T4rSE5NU47"
      }
    },
    {
      "cell_type": "markdown",
      "source": [
        "### 行动流提示"
      ],
      "metadata": {
        "id": "C5mElH7qQIMN"
      }
    },
    {
      "cell_type": "code",
      "source": [
        "result = (\n",
        "    agent\n",
        "        .input(\"我在哪里可以了解黑暗之魂3和GTA6的发售日期，并完成购买或者预购？\")\n",
        "        .output({\n",
        "            \"info_list\": [\n",
        "                {\n",
        "                    \"知识对象\": (\"str\", \"回答{input}问题时，需要了解相关知识的具体对象\"),\n",
        "                    \"关键知识点\": (\"str\", \"回答{input}问题时，需要了解的关键知识\"),\n",
        "                    \"是否了解\": (\"bool\", \"判断你是否确信自己了解{关键知识点}的知识，如果不了解，输出false\")\n",
        "                }\n",
        "            ],\n",
        "            \"sure_info\": (\"str\", \"根据{info_list}给出回复，只展开详细陈述自己了解的关键知识点\"),\n",
        "            \"uncertain\": (\"str\", \"根据{info_list}向用户说明自己不了解的信息\"),\n",
        "        })\n",
        "        .start()\n",
        ")\n",
        "print(result)"
      ],
      "metadata": {
        "colab": {
          "base_uri": "https://localhost:8080/"
        },
        "id": "iwtsKWiNQePe",
        "outputId": "d915bc14-1657-4dc3-8b98-4ab3e04d0d39"
      },
      "execution_count": null,
      "outputs": [
        {
          "output_type": "stream",
          "name": "stdout",
          "text": [
            "{'info_list': [{'知识对象': '黑暗之魂3', '关键知识点': '发售日期', '是否了解': True}, {'知识对象': 'GTA6', '关键知识点': '发售日期', '是否了解': False}, {'知识对象': '黑暗之魂3', '关键知识点': '购买或预购方式', '是否了解': True}, {'知识对象': 'GTA6', '关键知识点': '购买或预购方式', '是否了解': False}], 'sure_info': '黑暗之魂3（Dark Souls III）已经在2016年3月24日发售。您可以通过各大游戏平台如Steam、PlayStation Store、Xbox Live等进行购买或查询是否还有预购选项。', 'uncertain': '至于GTA6（Grand Theft Auto VI）的发售日期和购买方式，目前我没有确切的信息。通常，此类信息会在游戏官方渠道或开发商Rockstar Games的官方公告中发布，建议您关注相关动态以获取最新消息。'}\n"
          ]
        }
      ]
    },
    {
      "cell_type": "markdown",
      "source": [
        "### 分支逻辑判断"
      ],
      "metadata": {
        "id": "LbndUU1aQOH4"
      }
    },
    {
      "cell_type": "code",
      "source": [
        "result = (\n",
        "    agent\n",
        "        .input(\"帮我查一个新闻\")\n",
        "        .output({\n",
        "            \"is_info_complete\": (\"bool\", \"判断{input}提供的信息是否完整齐备，能够被执行\"),\n",
        "            \"question\": (\"str\", \"如果{is_info_complete}==false，输出你想要询问的问题，否则输出null\"),\n",
        "            \"reply\": (\"str\", \"如果{is_info_complete}==true，输出你的回答，否则输出null\"),\n",
        "        })\n",
        "        .start()\n",
        ")\n",
        "print(result)"
      ],
      "metadata": {
        "colab": {
          "base_uri": "https://localhost:8080/"
        },
        "id": "sN9wGgPodxfs",
        "outputId": "543fdb31-13a8-4814-af4c-2ea18a3ec268"
      },
      "execution_count": null,
      "outputs": [
        {
          "output_type": "stream",
          "name": "stdout",
          "text": [
            "{'is_info_complete': False, 'question': '请告诉我您想查询的具体新闻内容或关键词。', 'reply': None}\n"
          ]
        }
      ]
    },
    {
      "cell_type": "markdown",
      "source": [
        "### 自我批判修正"
      ],
      "metadata": {
        "id": "y2l2ftDVQP4e"
      }
    },
    {
      "cell_type": "code",
      "source": [
        "result = (\n",
        "    agent\n",
        "        .input({\n",
        "            \"target\": \"进入被巨石封堵的洞穴\",\n",
        "            \"items\": [\"勺子\", \"筷子\"],\n",
        "        })\n",
        "        .output({\n",
        "            \"action\": (\"str\", \"用最大胆的方式给出利用{items}完成{target}的方法\"),\n",
        "            \"can_do\": (\"bool\", \"请用常识判断{action}的可行性\"),\n",
        "            \"can_do_explain\": (\"str\", \"如果{can_do}==false,给出你的判断理由\"),\n",
        "            \"fixed_action\": (\n",
        "                \"str\",\n",
        "                \"如果{can_do}==false,结合{can_do_explain}和{items}\" +\n",
        "                \"重新思考完成{target}的方法\"\n",
        "            )\n",
        "        })\n",
        "        .start()\n",
        ")\n",
        "print(result)"
      ],
      "metadata": {
        "colab": {
          "base_uri": "https://localhost:8080/"
        },
        "id": "oCtQUqOBemVI",
        "outputId": "f700b16a-025f-490e-dd8a-9d34c8614582"
      },
      "execution_count": null,
      "outputs": [
        {
          "output_type": "stream",
          "name": "stdout",
          "text": [
            "{'action': '使用勺子和筷子撬动巨石，清除洞穴入口的障碍。', 'can_do': False, 'can_do_explain': '勺子和筷子作为工具，其强度和尺寸都不足以撬动巨石。', 'fixed_action': '尝试使用勺子和筷子挖掘巨石周围的土壤或小石块，寻找可能的缝隙或空洞，从而逐步扩大洞穴入口的空间，或者收集可燃烧的物质制作简易火堆，用烟雾逼迫洞穴内的空气流动，以寻找其他未被堵塞的通道。'}\n"
          ]
        }
      ]
    },
    {
      "cell_type": "markdown",
      "source": [
        "### 确保关键信息纯净度\n",
        "\n",
        "有时候，我们直接请求模型生成一些关键结果（比如代码、翻译结果）时，会遇到模型话痨的情况，无论我们怎么说明不要做额外的解释说明，模型依然“热情”地希望帮助我们更好地理解它的答案，输出额外信息。\n",
        "\n",
        "通过构造结构化输出，我们可以让模型把额外的输出信息放到其他位置，从而确保指定位置的信息的纯净度。"
      ],
      "metadata": {
        "id": "RtaGtx8SR5e7"
      }
    },
    {
      "cell_type": "code",
      "source": [
        "result = (\n",
        "    agent\n",
        "        .input(\"翻译：PROMPT for Language Models\")\n",
        "        .instruct(\"目标语言：中文\")\n",
        "        .output({\n",
        "            \"translation\": (\"str\", \"对翻译目标的翻译结果\"),\n",
        "            \"explanation\": (\"str\", \"对翻译内容的补充说明\"),\n",
        "            \"examples\": [(\"str\", \"使用{translation}内容造句\")],\n",
        "        })\n",
        "        .start()\n",
        ")\n",
        "print(result)"
      ],
      "metadata": {
        "colab": {
          "base_uri": "https://localhost:8080/"
        },
        "id": "L1NvXLuzfrbC",
        "outputId": "3a6af078-2afe-42fb-cbab-b1c25a947669"
      },
      "execution_count": null,
      "outputs": [
        {
          "output_type": "stream",
          "name": "stdout",
          "text": [
            "{'translation': '语言模型的提示', 'explanation': 'PROMPT 在此上下文中指的是为语言模型提供输入或指令的简短文字，以便模型可以根据这些提示生成相应的文本或完成特定的任务。', 'examples': ['在为聊天机器人编写脚本时，我需要设计一些有效的提示来引导语言模型生成合适的回答。', '通过设置不同的提示，我能够探索语言模型在诗歌创作和故事编写方面的多样性。', '提示可以帮助语言模型在处理用户查询时更准确地理解用户的意图。']}\n"
          ]
        }
      ]
    },
    {
      "cell_type": "markdown",
      "source": [
        "## 第五章：流式输出和事件监听处理器\n",
        "\n",
        "在Agently框架中，绝大部分适配的模型`注1`都支持流式输出，并且已经在框架请求逻辑中对流式输出的数据块进行了清洗，通过`response:delta`事件抛出仅包含增量文本块的数据。要如何接收这些流式输出数据，对它们进行解析、安全判断、打印或是向前端转发？这就需要用到我们在本章介绍的事件监听处理器能力了。\n",
        "\n",
        "> `注1：部分embedding模型和生图模型不支持流式输出，但这种情况仅是不抛出response:delta事件，从而让监听该事件的处理器不运行，并不会对整体逻辑造成影响或是抛出错误。`"
      ],
      "metadata": {
        "id": "3pQqZE1OQYNh"
      }
    },
    {
      "cell_type": "markdown",
      "source": [
        "### 两种流式输出的打印示例\n",
        "\n",
        "使用Colab或是Jupyter工具，可以自行运行下面两段示例，看到流式输出的效果。"
      ],
      "metadata": {
        "id": "07BVe__YTBav"
      }
    },
    {
      "cell_type": "code",
      "source": [
        "\"\"\"示例1：使用.on_delta()指令快速打印\"\"\"\n",
        "result = (\n",
        "    agent\n",
        "        .input(\"首先生成三个关于颜色的词语，然后用这三个词语造两个句子\")\n",
        "        # 在本示例中我们使用了lambda函数，你也可以定义更复杂的处理函数\n",
        "        # 并将处理函数传给.on_delta()指令\n",
        "        .on_delta(lambda data: print(data, end=\"\"))\n",
        "        .start()\n",
        ")\n",
        "# 当然.on_delta()指令不会影响result变量获得最终的结果值\n",
        "#print(result)"
      ],
      "metadata": {
        "colab": {
          "base_uri": "https://localhost:8080/"
        },
        "id": "f9PIpcZzVFJ6",
        "outputId": "3894ee34-f6a8-4159-ae7b-4463354e4944"
      },
      "execution_count": null,
      "outputs": [
        {
          "output_type": "stream",
          "name": "stdout",
          "text": [
            "三个关于颜色的词语：碧绿、湛蓝、火红。\n",
            "\n",
            "第一个句子：春天来了，碧绿的草地上一片生机盎然，湛蓝的天空下孩子们欢快地玩耍。\n",
            "第二个句子：国庆节那天，火红的国旗在湛蓝的天空中飘扬，人们脸上洋溢着自豪的笑容。"
          ]
        }
      ]
    },
    {
      "cell_type": "code",
      "source": [
        "\"\"\"示例2：使用@agent.on_event()函数装饰器打印\"\"\"\n",
        "@agent.on_event(\"delta\")\n",
        "def print_delta(data: str):\n",
        "    print(data, end=\"\")\n",
        "\n",
        "result = (\n",
        "    agent\n",
        "        .input(\"首先生成三个关于颜色的词语，然后用这三个词语造两个句子\")\n",
        "        .start()\n",
        ")"
      ],
      "metadata": {
        "colab": {
          "base_uri": "https://localhost:8080/"
        },
        "id": "XZCWPHk7WDcz",
        "outputId": "77ab11ac-d0d7-4f50-b011-2f65a82df4b5"
      },
      "execution_count": null,
      "outputs": [
        {
          "output_type": "stream",
          "name": "stdout",
          "text": [
            "三个关于颜色的词语：\n",
            "1. 碧绿\n",
            "2. 深红\n",
            "3. 鹅黄\n",
            "\n",
            "两个句子：\n",
            "1. 春天来了，树叶渐渐变得碧绿，给人一种生机勃勃的感觉。\n",
            "2. 她穿着一袭深红色的长裙，走在鹅黄色的沙滩上，显得格外引人注目。"
          ]
        }
      ]
    },
    {
      "cell_type": "markdown",
      "source": [
        "### 事件监听处理器\n",
        "\n",
        "上面两个示例中，将流式输出打印出来的那个函数，就是我们所说的事件监听处理器（Event Listener），除了将流式输出数据打印出来之外，我们也可以定义其他处理逻辑，例如对流式数据进行WebSocket转发。\n",
        "\n",
        "同时，Agently框架也提供了不仅限于`response:delta`的其他事件供开发者使用，了解更多可以参考[案例：通过Agent指令或是函数装饰器使用事件监听器](https://github.com/Maplemx/Agently/blob/main/playground/create_event_listeners_with_alias_or_decorator.ipynb)"
      ],
      "metadata": {
        "id": "Y6i8NAxXW-hy"
      }
    },
    {
      "cell_type": "markdown",
      "source": [
        "### 通过WebSocket服务分发流式输出结果\n",
        "\n",
        "下面再提供一个简单示例，演示如何将流式数据通过WebSocket转发输出：\n",
        "\n",
        "（注意：因为Colab每次只能执行一段代码块，下面两段代码不能同时被执行，需要将下面两段代码块复制到本地环境运行测试）"
      ],
      "metadata": {
        "id": "Cow3SyzRfR4d"
      }
    },
    {
      "cell_type": "code",
      "source": [
        "\"\"\"本示例通过tornado进行WebSocket服务\"\"\"\n",
        "\"\"\"此段为服务端代码\"\"\"\n",
        "import Agently\n",
        "import asyncio\n",
        "import tornado.ioloop\n",
        "import tornado.web\n",
        "import tornado.websocket\n",
        "import json\n",
        "\n",
        "agent_factory = (\n",
        "    Agently.AgentFactory()\n",
        "        .set_settings(\"current_model\", \"ZhipuAI\")\n",
        "        .set_settings(\"model.ZhipuAI.auth\", { \"api_key\": \"\" })\n",
        ")\n",
        "\n",
        "agent = agent_factory.create_agent()\n",
        "\n",
        "class WebSocketHandler(tornado.websocket.WebSocketHandler):\n",
        "    def on_message(self, message):\n",
        "        try:\n",
        "            data = json.loads(message)\n",
        "            print(\"Data Received:\", data)\n",
        "            result = (\n",
        "                agent\n",
        "                    # 从传递过来的消息中读取\"input\"字段的值，传入.input()\n",
        "                    .input(data[\"input\"])\n",
        "                    # 将流式输出结果用{ \"event\": \"delta\", \"data\": <输出块内容> }的格式返回\n",
        "                    .on_delta(lambda data: self.write_message(\n",
        "                        json.dumps({\n",
        "                            \"status\": 200,\n",
        "                            \"event\": \"delta\",\n",
        "                            \"data\": data,\n",
        "                        })\n",
        "                    ))\n",
        "                    .start()\n",
        "            )\n",
        "            # 在全部生成结束后，用{ \"event\": \"done\", \"data\": <完整结果> }的格式返回\n",
        "            self.write_message(\n",
        "                json.dumps({\n",
        "                    \"status\": 200,\n",
        "                    \"event\": \"done\",\n",
        "                    \"data\": result,\n",
        "                })\n",
        "            )\n",
        "        except Exception as e:\n",
        "            print(e)\n",
        "            self.write_message(json.dumps({\n",
        "                \"status\": 400,\n",
        "                \"msg\": str(e),\n",
        "            }))\n",
        "\n",
        "class Application(tornado.web.Application):\n",
        "    def __init__(self):\n",
        "        handlers = [\n",
        "            (\"/app\", WebSocketHandler),\n",
        "        ]\n",
        "        super(Application, self).__init__(handlers)\n",
        "\n",
        "app = Application()\n",
        "app.listen(1565)\n",
        "print(\"WebSocket 服务已启动\")\n",
        "tornado.ioloop.IOLoop.current().start()"
      ],
      "metadata": {
        "id": "bJMo-q2DZDWw"
      },
      "execution_count": null,
      "outputs": []
    },
    {
      "cell_type": "code",
      "source": [
        "\"\"\"此段为模拟客户端代码\"\"\"\n",
        "import asyncio\n",
        "import aiohttp\n",
        "from aiohttp_socks import ProxyConnector\n",
        "import json\n",
        "\n",
        "async def proxy_request():\n",
        "    async with aiohttp.ClientSession() as session:\n",
        "        async with session.ws_connect('ws://0.0.0.0:1565/app') as websocket:\n",
        "            await websocket.send_str(json.dumps({\n",
        "                \"input\": \"你好\"\n",
        "            }))\n",
        "        async for msg in websocket:\n",
        "                response = msg.data\n",
        "                print(json.loads(response))\n",
        "\n",
        "asyncio.get_event_loop().run_until_complete(proxy_request())"
      ],
      "metadata": {
        "id": "QX7ec2TVe1lx"
      },
      "execution_count": null,
      "outputs": []
    },
    {
      "cell_type": "markdown",
      "source": [
        "### 更高级的流式输出处理工具：Segment`[beta]`\n",
        "\n",
        "在第四章中我们提到，除了直接回复用户输入之外，我们还可以通过高级Prompt构造的技巧在单次主要请求中构造更复杂的思考过程，通过前置思考、自我批判修正等方式，进一步保证输出的准确性。\n",
        "\n",
        "在Agent与用户的直接交互过程中，通常我们并不希望用户看到这些思考的过程，但是，我们同时还希望用户能够尽快看到他们能够看到的那部分信息的流式输出。\n",
        "\n",
        "Segment能力组件插件就是为了解决这样的问题而设计的，具体使用方法请看下面的示例代码：\n",
        "\n",
        "> ⚠️：Segment是一个实验性方法（带有`[beta]`标签），可能在运行过程中出现错误，需要开发者进行容错处理\n",
        ">\n",
        "> ℹ️：根据开发实验，在Gemini Pro、文心4、GLM-4等模型中能够有较高的成功率，但在GPT-3.5-turbo-1106模型并不能很好运作。"
      ],
      "metadata": {
        "id": "z7is2AZA8QmS"
      }
    },
    {
      "cell_type": "code",
      "source": [
        "def print_streaming_content(data: str):\n",
        "    print(data, end = \"\")\n",
        "\n",
        "user_input = input(\"[用户]: \")\n",
        "\n",
        "result = (agent\n",
        "    .input(user_input)\n",
        "    .segment(\n",
        "        \"thinking_tips\",\n",
        "        \"生成一段文字，用适当的态度表达对用户输入信息的关注，你正在思考如何回复，用换行符结尾\",\n",
        "        print_streaming_content,\n",
        "        is_streaming = True,\n",
        "    )\n",
        "    .segment(\n",
        "        \"required_info_list\",\n",
        "        [\n",
        "            {\n",
        "                \"知识对象\": (\"str\", \"回答{input}问题时，需要了解相关知识的具体对象\"),\n",
        "                \"已知信息\": (\"str\", \"根据{input}总结用户已经提供的信息\"),\n",
        "                \"是否完备\": (\"bool\", \"判断你是否确信自己拥有{知识对象}的关键知识或信息，如果不了解，输出false\"),\n",
        "                \"关键知识点或信息补充\": (\"str\", \"如果{是否完备}==false，给出需要了解的关键知识或需要用户提供的信息补充，否则输出空字符串''\"),\n",
        "            }\n",
        "        ],\n",
        "    )\n",
        "    .segment(\n",
        "        \"certain_reply\",\n",
        "        \"根据{required_info_list}给出回复，展开详细陈述自己了解的关键知识点内容，用换行符结尾，如果没有则输出空字符串''\",\n",
        "        print_streaming_content,\n",
        "        is_streaming = True,\n",
        "    )\n",
        "    .segment(\n",
        "        \"uncertain_reply\",\n",
        "        \"根据{required_info_list}的信息，向用户说明自己不了解的信息，请用户提供或自行查找，用换行符结尾，如果没有则输出空字符串''\",\n",
        "        print_streaming_content,\n",
        "        is_streaming = True,\n",
        "    )\n",
        "    .segment(\n",
        "        \"next_topic_suggestions\",\n",
        "        \"根据之前所有生成内容的信息，给出接下来可以进一步讨论的问题或话题建议，如果没有则输出空字符串''\",\n",
        "        print_streaming_content,\n",
        "        is_streaming = True,\n",
        "    )\n",
        "    .start()\n",
        ")\n",
        "\n",
        "print(\"\\n----------------\\n[隐藏的思考信息]\\n\", result[\"required_info_list\"])"
      ],
      "metadata": {
        "colab": {
          "base_uri": "https://localhost:8080/"
        },
        "id": "sL0iIw5UTaWY",
        "outputId": "0160432b-e19e-4077-df88-cc950bac26df"
      },
      "execution_count": null,
      "outputs": [
        {
          "output_type": "stream",
          "name": "stdout",
          "text": [
            "[用户]: 我想要创作一篇小说\n",
            "\n",
            "好的，您想创作一篇小说，这是一个很有创意的想法。我正在思考如何帮助您，请稍等片刻。\n",
            "\n",
            "小说创作是一个涉及多个方面的过程，首先我们可以从以下几个方面入手：\n",
            "1. 确定小说的题材，例如现实主义、奇幻、科幻等；\n",
            "2. 设定故事背景，包括时代、地点等；\n",
            "3. 设计主要人物及其性格特点；\n",
            "4. 梳理故事情节，包括起承转合。\n",
            "\n",
            "当然，如果您有其他方面的想法，也可以告诉我，我会尽力帮助您。\n",
            "\n",
            "目前我还不太清楚您对小说的具体想法，比如您希望创作哪种类型的小说，故事背景和人物设定等。如果您能提供这些信息，我将更好地为您提供建议和帮助。\n",
            "\n",
            "接下来，我们可以进一步讨论以下问题：\n",
            "1. 您喜欢的小说类型和作者；\n",
            "2. 您对故事背景和人物设定的初步设想；\n",
            "3. 您希望在小说中表达的主题或思想。\n",
            "\n",
            "这些问题将有助于我们更好地展开创作。\n",
            "----------------\n",
            "[隐藏的思考信息]\n",
            " \n",
            "[\n",
            "\t{\n",
            "\t\t\"知识对象\": \"小说创作\",\n",
            "\t\t\"已知信息\": \"用户想要创作一篇小说\",\n",
            "\t\t\"是否完备\": false,\n",
            "\t\t\"关键知识点或信息补充\": \"需要了解用户对小说题材、故事背景、人物设定等方面的想法\"\n",
            "\t},\n",
            "]\n",
            "\n"
          ]
        }
      ]
    },
    {
      "cell_type": "markdown",
      "source": [
        "## 第六章：Agent实例运行时数据的生命周期"
      ],
      "metadata": {
        "id": "gRaPW0XgXT_I"
      }
    },
    {
      "cell_type": "markdown",
      "source": [
        "### 概念说明\n",
        "\n",
        "Agent实例运行时数据的生命周期是Agently框架中的一个重要概念，也是Agent能力组件的运行基础，本章将用较大篇幅对概念进行说明，这对理解后续章节介绍的能力的工作原理会有很大帮助。\n",
        "\n",
        "在第三章中，我们介绍了Agent实例的基础请求方法，可能你已经注意到，这些请求指令中包含的信息，在下次请求中并不会被自动携带，如果我们希望在下次请求中继续使用这些信息，只能再次重复发送这些指令。\n",
        "\n",
        "事实上，这也是除了遵循LLM Powered Agent的模块结构设计外，Agent实例结构的另一个重要特点：运行时数据生命周期管理。\n",
        "\n",
        "<img width=\"609\" alt=\"image\" src=\"https://github.com/Maplemx/Agently/assets/4413155/24a37573-7d98-448a-979e-fd9a31342e70\">\n",
        "\n",
        "如上图所示，实际上，Agent实例在运行时，会有三类不同生命周期的运行时数据：\n",
        "\n",
        "- **主要请求运行时数据（Request Runtime Ctx）**：这类运行时数据会传递给对模型的主要请求，并且在主要请求执行完毕后进行清空，通过基础请求指令传入的数据基本都属于这类运行时数据；\n",
        "- **Agent实例运行时数据（Agent Runtime Ctx）**：这类运行时数据会持续跟随在代码运行阶段的Agent实例上，属于Agent实例属性的一部分，它们会持续影响Agent实例的行为，直到它们被更改或是Agent实例被回收销毁，在Agently框架中，通常由Agent能力组件（Agent Component）这类型的插件对Agent实例运行时数据进行创建、更新、删除等管理动作，并在每次执行模型主要请求时，将插件管理的这部分信息传递给模型，从而保证Agent行为在生命周期内的一致性；\n",
        "- **Agent实例运行时数据的长时固化存储（Agent Runtime Ctx Storage）**：有的时候，我们并不希望Agent实例运行时数据随着脚本运行结束被销毁，这时候我们就需要将这些运行时数据存储到本地，并在需要时将这些数据读取出来，在Agently框架中，也提供了一套对应的方法来对Agent实例运行时数据进行保存，将在下一小节的示例中进行演示。"
      ],
      "metadata": {
        "id": "i95MgE0oXrKq"
      }
    },
    {
      "cell_type": "markdown",
      "source": [
        "### Agent实例运行时数据的存取示例"
      ],
      "metadata": {
        "id": "vIGK092eg5uV"
      }
    },
    {
      "cell_type": "code",
      "source": [
        "# 要确保Agent实例运行时数据能够被正确取出\n",
        "# 我们需要在创建Agent实例时，传入agent_id\n",
        "# 这个agent_id可以由开发者自行命名管理\n",
        "# 或是在首次创建时保存框架自动创建的id值\n",
        "my_agent = agent_factory.create_agent(\"agent42\") #<-这里传入的字符串就是agent_id\n",
        "# 当.create_agent()时传入了agent_id\n",
        "# Agently框架会自动查询存储区域中是否存在已经保存的\n",
        "# 对应agent_id的Agent实例运行时数据\n",
        "# 如果找到，则会自动将这些数据恢复至新创建的实例中\n",
        "\n",
        "# 通常情况下，你只需要正常使用Agent实例即可，\n",
        "# 不用关心实例运行时数据的情况，因为这些信息往往由\n",
        "# Agent能力组件插件进行管理，你并不需要知道\n",
        "# 但你也可以通过agent.agent_runtime_ctx\n",
        "# 对Agent实例运行时数据进行操作，例如：\n",
        "my_agent.agent_runtime_ctx.set(\"my_runtime_key\", \"my_runtime_value\")\n",
        "\n",
        "# 接下来我们通过agent.save()指令确保运行时数据被保存\n",
        "my_agent.save()"
      ],
      "metadata": {
        "colab": {
          "base_uri": "https://localhost:8080/"
        },
        "id": "1NdP7hPOhC3R",
        "outputId": "4b7cf6d3-52d6-4231-beb0-11f82ae99701"
      },
      "execution_count": null,
      "outputs": [
        {
          "output_type": "execute_result",
          "data": {
            "text/plain": [
              "<Agently.Agent.Agent.Agent at 0x7aeabc856620>"
            ]
          },
          "metadata": {},
          "execution_count": 13
        }
      ]
    },
    {
      "cell_type": "code",
      "source": [
        "# 当我们再次创建使用这个agent_id的agent时\n",
        "my_agent42 = agent_factory.create_agent(\"agent42\")\n",
        "\n",
        "# 就可以取回保存时的所有Agent实例运行时数据了\n",
        "print(my_agent42.agent_runtime_ctx.get(\"my_runtime_key\"))"
      ],
      "metadata": {
        "colab": {
          "base_uri": "https://localhost:8080/"
        },
        "id": "9EEmcLocjBPo",
        "outputId": "07fb23be-fa74-4434-c2c5-37148ab47e08"
      },
      "execution_count": null,
      "outputs": [
        {
          "output_type": "stream",
          "name": "stdout",
          "text": [
            "my_runtime_value\n"
          ]
        }
      ]
    },
    {
      "cell_type": "markdown",
      "source": [
        "不过，正如上面的代码示例中所说，**作为应用开发者，你几乎不需要考虑对Agent实例运行时数据的直接操作**，只需要知道这是接下来章节中我们介绍的各种**Agent能力增强组件带来的功能的运行基础**就好了。"
      ],
      "metadata": {
        "id": "Tp4lIdJHjoK9"
      }
    },
    {
      "cell_type": "markdown",
      "source": [
        "## 第七章：多轮对话\n",
        "\n",
        "在开始介绍Agently为Agent实例提供的其他能力之前，先讲讲多轮对话这个最基本的能力。对Agent实例进行多次请求，是我们需要对Agent实例运行时数据进行管理的基础，也是后续绝大部分Agent能力插件需要存在的原因。"
      ],
      "metadata": {
        "id": "ZBR0rHJdkEu0"
      }
    },
    {
      "cell_type": "markdown",
      "source": [
        "### 最基础的多轮对话方案\n",
        "\n",
        "Agently框架通过Session能力增强插件，提供了通过自动持续记录会话消息列的方式，支持多轮对话的方案。下面是快速搭建的代码示例："
      ],
      "metadata": {
        "id": "IuPPjWLNmhKj"
      }
    },
    {
      "cell_type": "code",
      "source": [
        "# 打开自动会话记录管理能力\n",
        "agent.active_session(\"example_session\") #<-如果要支持本地长时间存储会话记录，这里需要指定session_id\n",
        "while True:\n",
        "    ## 获取用户输入\n",
        "    user_input = input(\"[用户]: \")\n",
        "    ## 设置终止关键词\n",
        "    if user_input == \"#exit\":\n",
        "        print(\"再见~👋\")\n",
        "        break\n",
        "    print(\"[助理]: \", end=\"\")\n",
        "    ## 执行语言模型处理\n",
        "    ## 通过.on_delta()方法监听流式输出，并进行打印\n",
        "    result = (\n",
        "        agent\n",
        "            .input(user_input)\n",
        "            .on_delta(lambda data: print(data, end=\"\"))\n",
        "            .start()\n",
        "    )\n",
        "    print(\"\")\n",
        "# 在结束时提示会话结束，执行保存本地逻辑\n",
        "# 如果不希望长时间保存对话内容，则不需要下面这行\n",
        "agent.stop_session()"
      ],
      "metadata": {
        "colab": {
          "base_uri": "https://localhost:8080/"
        },
        "id": "DKmEa0qBnbZT",
        "outputId": "1724e42d-1a6a-4ddf-ea33-641ad790ec63"
      },
      "execution_count": null,
      "outputs": [
        {
          "output_type": "stream",
          "name": "stdout",
          "text": [
            "[用户]: 给我出一个字谜吧，不要告诉我谜底\n",
            "[助理]: 好的，这是一个字谜：\n",
            "\n",
            "树上开满小白花，秋天结果似玛瑙。\n",
            "\n",
            "这个字谜描述的是一种植物，你能猜出是什么字吗？\n",
            "[用户]: 有提示吗\n",
            "[助理]: 当然可以给一个提示：\n",
            "\n",
            "这种植物的名字由两个部分组成，谜语中描述的是它的果实，而它的另一个部分则与木材有关，常常被用来制作家具。\n",
            "[用户]: 不知道耶，告诉我答案\n",
            "[助理]: 这个字谜的答案是“柿”。解释如下：\n",
            "\n",
            "“树上开满小白花”指的是柿子树开花时的景象，柿子的花是白色的。\n",
            "“秋天结果似玛瑙”则形容柿子成熟时的颜色，红润如同玛瑙一样。\n",
            "而“柿”字由“木”字旁和“市”字组成，与提示中提到的“与木材有关”相符合。\n",
            "[用户]: #exit\n",
            "再见~👋\n"
          ]
        },
        {
          "output_type": "execute_result",
          "data": {
            "text/plain": [
              "<Agently.Agent.Agent.Agent at 0x7aead5955ba0>"
            ]
          },
          "metadata": {},
          "execution_count": 15
        }
      ]
    },
    {
      "cell_type": "markdown",
      "source": [
        "### 结合框架其他能力，构建更复杂的多轮对话\n",
        "\n",
        "当然，在上面的基础对话方案之上，我们可以结合框架的其他能力，构建更加复杂的多轮对话，例如：使用Segment方法指导Agent回复的思考逻辑。"
      ],
      "metadata": {
        "id": "629wA3fLj9JU"
      }
    },
    {
      "cell_type": "code",
      "source": [
        "def print_streaming_content(data: str):\n",
        "    print(data, end=\"\")\n",
        "\n",
        "agent.set_settings(\"is_debug\", False)\n",
        "agent.active_session()\n",
        "while True:\n",
        "    user_input = input(\"[用户]: \")\n",
        "    if user_input == \"#exit\":\n",
        "        print(\"再见~👋\")\n",
        "        break\n",
        "    print(\"[助理]: \", end=\"\")\n",
        "    result = (\n",
        "        agent\n",
        "            .input(user_input)\n",
        "            .segment(\n",
        "                \"thinking_tips\",\n",
        "                \"生成一段文字，用适当的态度表达对用户输入信息的关注，你正在思考如何回复，用换行符结尾\",\n",
        "                print_streaming_content,\n",
        "                is_streaming = True,\n",
        "            )\n",
        "            .segment(\n",
        "                \"required_info_list\",\n",
        "                [\n",
        "                    {\n",
        "                        \"知识对象\": (\"str\", \"回答{input}问题时，需要了解相关知识的具体对象\"),\n",
        "                        \"已知信息\": (\"str\", \"根据之前所有对话历史，总结已知信息\"),\n",
        "                        \"是否完备\": (\"bool\", \"判断你是否确信自己拥有{知识对象}的关键知识或信息，如果不了解，输出false\"),\n",
        "                        \"关键知识点或信息补充\": (\"str\", \"如果{是否完备}==false，给出需要了解的关键知识或需要用户提供的信息补充，否则输出空字符串''\"),\n",
        "                    }\n",
        "                ],\n",
        "            )\n",
        "            .segment(\n",
        "                \"certain_reply\",\n",
        "                \"根据{required_info_list}给出回复，展开详细陈述自己了解的关键知识点内容，用换行符结尾，如果没有则输出空字符串''\",\n",
        "                print_streaming_content,\n",
        "                is_streaming = True,\n",
        "            )\n",
        "            .segment(\n",
        "                \"uncertain_reply\",\n",
        "                \"根据{required_info_list}的信息，向用户说明自己不了解的信息，请用户提供或自行查找，用换行符结尾，如果没有则输出空字符串''\",\n",
        "                print_streaming_content,\n",
        "                is_streaming = True,\n",
        "            )\n",
        "            .segment(\n",
        "                \"next_topic_suggestions\",\n",
        "                \"根据之前所有生成内容的信息，给出接下来可以进一步讨论的问题或话题建议，如果没有则输出空字符串''\",\n",
        "                print_streaming_content,\n",
        "                is_streaming = True,\n",
        "            )\n",
        "            .start()\n",
        "    )\n",
        "    print(\"\")"
      ],
      "metadata": {
        "colab": {
          "base_uri": "https://localhost:8080/"
        },
        "id": "UAUq3ai4kF8c",
        "outputId": "a10fb993-7476-4999-b2a3-f916fd6d1fcd"
      },
      "execution_count": null,
      "outputs": [
        {
          "output_type": "stream",
          "name": "stdout",
          "text": [
            "[用户]: 我最近总觉得有点不舒服，我应该怎么自己判断一下发生了什么\n",
            "[助理]: \n",
            "你的问题非常值得关注，我正在思考如何帮助你分析这种情况。请稍等，我将提供一些可能有用的信息。\n",
            "\n",
            "\n",
            "根据你的描述，我无法直接判断出你的不适原因，但我可以建议你注意观察以下情况：具体的症状表现，如头痛、胃痛、疲劳等；这些症状出现的时间、频率和持续时间；以及是否有任何特定事件或行为可能导致这些不适。这些信息将有助于进一步了解你可能面临的问题。\n",
            "\n",
            "\n",
            "为了更准确地提供帮助，我需要你提供更多关于不适的具体信息。请描述你的症状，以及它们出现的时间和持续时间。如果有任何你认为相关的日常习惯或事件，也请告知。\n",
            "\n",
            "\n",
            "一旦你提供了更多的症状信息，我们可以讨论一些可能的健康问题和自我照顾的方法。同时，如果情况严重或持续不适，建议及时咨询专业医生。\n",
            "```\n",
            "[用户]: 肩膀有时候很疼，而且很容易疲劳，工作一小会就想睡觉\n",
            "[助理]: \n",
            "你的症状很有意思，肩膀疼痛和疲劳可能是多种因素引起的。我正在思考如何更好地帮助你，请稍等片刻。\n",
            "\n",
            "\n",
            "根据你的描述，肩膀疼痛和疲劳可能与工作姿势、肌肉紧张或生活习惯有关。建议注意调整工作环境，定时休息，并进行适当的肩颈拉伸和锻炼。\n",
            "\n",
            "\n",
            "为了提供更具体的建议，我需要了解更多信息，比如你的工作性质、每天的工作时长、休息习惯以及是否有其他身体症状。\n",
            "\n",
            "\n",
            "你可以分享更多关于你的日常习惯和生活方式的信息，这样我们可以讨论一些可能改善你肩膀疼痛和疲劳的方法。同时，如果症状持续，考虑咨询医生以获得专业的诊断和治疗建议。\n",
            "```\n",
            "[用户]: 我是程序员，主要是面向电脑屏幕进行开发工作\n",
            "[助理]: \n",
            "你的职业背景和症状描述非常有趣，我正在思考这可能与你的工作习惯和身体状况有何关联，稍等一下，我将为你提供一些建议。\n",
            "\n",
            "\n",
            "根据你的情况，长时间面向电脑屏幕工作可能导致肩颈肌肉紧张和疲劳。建议你注意调整工作姿势，每隔一段时间起身活动，进行肩颈拉伸，并确保你的工作环境有适当的光线和舒适的座椅。\n",
            "\n",
            "\n",
            "为了提供更针对性的建议，我还需要了解你每天的工作时长、休息间隔以及你是否有尝试过任何缓解肩颈疼痛的方法。\n",
            "\n",
            "\n",
            "接下来，我们可以讨论一些适合程序员的肩颈保健方法以及如何改善工作环境来减轻你的症状。如果情况没有改善，你也可以考虑咨询专业的医疗人员。\n",
            "[用户]: 每天大概连续工作8个小时左右，每1小时会休息5分钟，当然也不一定，有时候工作进入状态可以连续3小时左右不动\n",
            "[助理]: \n",
            "你的工作习惯和症状描述提供了很多有价值的信息，我正在考虑这些因素可能如何影响你的肩颈疼痛和疲劳问题，请稍等片刻。\n",
            "\n",
            "\n",
            "根据你的工作习惯，长时间保持同一姿势确实可能导致肩颈肌肉紧张和疲劳。建议你在工作期间尽量坚持每1小时休息5分钟的习惯，并且可以使用这个时间进行肩颈的拉伸和放松活动。此外，可以考虑调整你的工作椅和桌子高度，确保你的屏幕处于眼睛水平或略低的位置，以减少颈部的压力。\n",
            "\n",
            "\n",
            "目前我对于你的情况已经有了一定的了解，但如果你能提供更多关于你工作环境的细节，比如椅子类型、屏幕尺寸和位置，以及你是否有任何其他健康问题，这些信息将有助于提供更具体的建议。\n",
            "\n",
            "\n",
            "下一步，我们可以讨论一些具体的肩颈拉伸和锻炼方法，以及如何改善你的工作环境来减少不适。如果你对现有的缓解措施感到不确定或症状持续，我会建议你咨询专业的健康顾问或物理治疗师。\n",
            "```\n",
            "[用户]: 能不能直接给我建议了？我不太好提供椅子、屏幕这些信息，没有测量的工具\n",
            "[助理]: \n",
            "你的问题非常有代表性，我正在思考如何在不依赖于具体工作环境参数的情况下，为你提供实用的建议。请稍等，我将为你整理一些信息。\n",
            "\n",
            "\n",
            "基于你的情况，以下是一些通用的缓解肩颈疼痛的建议：\n",
            "\n",
            "1. 定期进行肩颈拉伸，比如每隔一小时进行简单的拉伸运动。\n",
            "2. 尝试改变工作姿势，比如站立工作一段时间，或者调整坐姿。\n",
            "3. 确保在工作时有良好的背部支撑，以减少肩颈的压力。\n",
            "4. 进行一些肩颈肌肉的强化练习，比如颈部后仰、肩部旋转等。\n",
            "5. 注意休息，保证充足的睡眠，有助于肌肉的恢复。\n",
            "\n",
            "请尝试这些建议，并观察是否有改善。\n",
            "\n",
            "\n",
            "\n",
            "\n",
            "如果这些建议对你有帮助，我们可以进一步讨论如何将这些方法融入你的日常工作中。如果症状持续，我会建议你考虑咨询医生或专业的物理治疗师，以获得更个性化的诊断和治疗建议。\n",
            "[用户]: #exit\n",
            "再见~👋\n"
          ]
        }
      ]
    },
    {
      "cell_type": "markdown",
      "source": [
        "### 在复杂场景下，自行管理对话记录\n",
        "\n",
        "当然，在更加复杂的场景中，我们需要自己定制管理对话记录，而不是使用自动记录方案，Agently框架也为您手动管理对话记录提供了便捷的方法支持。\n",
        "\n",
        "您可以通过`.toggle_manual_chat_history(True)`的方式打开手动管理对话记录的模式，然后参考下面的案例对对话记录进行手动管理："
      ],
      "metadata": {
        "id": "uXnocNeFlGyZ"
      }
    },
    {
      "cell_type": "code",
      "source": [
        "agent_with_manual_chat_history = agent_factory.create_agent()\n",
        "# 使用.toggle_manual_chat_history(True)打开手动管理对话记录模式\n",
        "agent_with_manual_chat_history.toggle_manual_chat_history(True)\n",
        "# 使用.rewrite_chat_history([])重置对话记录为空\n",
        "agent_with_manual_chat_history.rewrite_chat_history([])\n",
        "# 将手动添加对话记录的顺序设置为严格模式（即对话记录严格遵循User-Assistant-User-...的顺序）\n",
        "# 严格模式默认打开，因此在实际开发中，可以忽略下面一行命令\n",
        "# 你也可以通过.toggle_strict_orders(False)的方式关闭严格模式\n",
        "agent_with_manual_chat_history.toggle_strict_orders(True)\n",
        "# 同样的，我们需要通过.active_session()开启在请求时自动插入之前存储的对话记录的能力\n",
        "agent_with_manual_chat_history.active_session()\n",
        "# 当然，如果你希望自主决定是否插入对话记录，可以将上面一行注释掉，然后往下看\n",
        "while True:\n",
        "    user_input = input(\"[用户]: \")\n",
        "    if user_input == \"#exit\":\n",
        "        print(\"再见~👋\")\n",
        "        break\n",
        "    # 通过.instruct()方法使用同一个agent实例发起两次视角完全不同的主要交互请求\n",
        "    print(\"[理性派]: \", end=\"\")\n",
        "    logical_result = (\n",
        "        agent_with_manual_chat_history\n",
        "            # 如果你没有使用.active_session()\n",
        "            # 可以使用下面的方法自己决定是否插入已经存储的对话记录\n",
        "            # is_shorten=True将帮助你将超长的对话记录进行截断\n",
        "            #.chat_history(\n",
        "            #    agent_agent_with_manual_chat_history\n",
        "            #        .get_chat_history(is_shorten=True)\n",
        "            #)\n",
        "            .input(user_input)\n",
        "            .instruct(\"参考瓦肯星人🖖，使用理性和逻辑态度对问题进行分析，并给出你的建议\")\n",
        "            .on_delta(lambda data: print(data, end=\"\"))\n",
        "            .start()\n",
        "    )\n",
        "    print(\"\\n[情绪动物]: \", end=\"\")\n",
        "    emotional_result = (\n",
        "        agent_with_manual_chat_history\n",
        "            .input(user_input)\n",
        "            .instruct(\"使用感性、情绪化、艺术化的态度对问题进行反馈，给出你的建议\")\n",
        "            .on_delta(lambda data: print(data, end=\"\"))\n",
        "            .start()\n",
        "    )\n",
        "    print(\"\")\n",
        "    # 通过.add_chat_history(\"<role>\", \"<content>\")手动添加对话记录\n",
        "    # 因为我们启动了对话记录顺序严格模式，你会发现，虽然我们在下方写入了两次assistant的回复\n",
        "    # 但最终打印出来的对话记录中，两条回复会被合并到一条记录中\n",
        "    agent_with_manual_chat_history.add_chat_history(\"user\", user_input)\n",
        "    agent_with_manual_chat_history.add_chat_history(\"assistant\", logical_result)\n",
        "    agent_with_manual_chat_history.add_chat_history(\"assistant\", emotional_result)\n",
        "print(\"[对话历史]\", agent_with_manual_chat_history.get_chat_history())"
      ],
      "metadata": {
        "id": "G5rbK88ce25o",
        "colab": {
          "base_uri": "https://localhost:8080/"
        },
        "outputId": "0f6a5af2-4ff5-4a7a-c517-ab7baf88d617"
      },
      "execution_count": 8,
      "outputs": [
        {
          "output_type": "stream",
          "name": "stdout",
          "text": [
            "[用户]: 我要如何画一幅好看的山水画？\n",
            "[理性派]: 绘制一幅优美的山水画，需要遵循一定的艺术原则并结合个人的审美情感。以下是基于逻辑和理性的分析后，为您提供的建议：\n",
            "\n",
            "1. **学习基础知识**：\n",
            "   - **了解传统技法**：研究中国山水画的历史和传统技法，如笔法、墨法、构图等。\n",
            "   - **掌握工具材料**：熟悉文房四宝（笔、墨、纸、砚），选择合适的毛笔和墨水。\n",
            "\n",
            "2. **观察自然**：\n",
            "   - **实地考察**：走进大自然，观察山水的形态、色彩变化和光影效果。\n",
            "   - **理性分析**：用逻辑思维分析山石的构成、水流的方向以及植被的分布。\n",
            "\n",
            "3. **构图设计**：\n",
            "   - **遵循原则**：运用“三远法”（高远、深远、平远）构图，使画面层次分明。\n",
            "   - **黄金分割**：使用黄金分割法安排视觉中心，使画面更加和谐。\n",
            "\n",
            "4. **创作过程**：\n",
            "   - **起稿**：轻笔淡墨，勾勒大体轮廓。\n",
            "   - **分层渲染**：从淡到浓，先画远山，后画近石，再渲染植被。\n",
            "   - **细部描绘**：对山石纹理、树木枝叶进行细致描绘。\n",
            "\n",
            "5. **艺术表现**：\n",
            "   - **意境营造**：通过画面的构图和色彩，表达出一定的意境和情感。\n",
            "   - **笔墨运用**：灵活运用各种笔法和墨法，如泼墨、积墨、焦墨等。\n",
            "\n",
            "6. **反思修正**：\n",
            "   - **评价标准**：从构图、色彩、意境等多方面评价作品，用理性的态度审视。\n",
            "   - **修正完善**：对不满意的部分进行修改，不断完善画面。\n",
            "\n",
            "7. **持续学习**：\n",
            "   - **汲取经典**：学习经典山水画作品，汲取艺术养分。\n",
            "   - **实践创新**：多实践，不断尝试创新，形成个人风格。\n",
            "\n",
            "遵循以上建议，并结合个人的审美情感和艺术理解，您就能够绘制出一幅既符合传统审美，又具有个人特色的山水画。记得，艺术创作没有绝对的标准，保持理性和逻辑的同时，也要注重情感的流露。\n",
            "[情绪动物]: 在绘制一幅迷人的山水画时，不妨放任你的情感在纸上流淌，让每一笔都充满你对大自然深深的感悟和敬畏。\n",
            "\n",
            "首先，找一个宁静的角落，让你的心与自然对话。观察山水之美，不在于细节的精确，而在于气息的流动和情绪的传达。\n",
            "\n",
            "1. **心境准备**：在动笔前，闭上眼睛，想象你身临其境，感受山风的轻拂，聆听流水的低语。\n",
            "\n",
            "2. **随性勾勒**：不要急于定形，先用淡墨或淡彩，随意勾勒山水的轮廓。让笔触随着你的呼吸和心跳起舞。\n",
            "\n",
            "3. **色彩渲染**：选择能表达你情感的色彩。也许是用清晨的淡蓝描绘远山，用夕阳的橙黄渲染天际。\n",
            "\n",
            "4. **层次叠加**：山水之美在于层次分明。用不同浓度的墨色或色彩，一层层叠加，如同自然的层次，丰富而不突兀。\n",
            "\n",
            "5. **重点突出**：找到那个让你心动的焦点，或是山巅的一棵树，或是山谷中的一缕光，让它在画面中熠熠生辉。\n",
            "\n",
            "6. **情绪注入**：在画作中留下你的情绪。如果当时你感到宁静，那么画面可以是淡雅的；如果充满激情，那么笔触可以是大胆的。\n",
            "\n",
            "7. **留白艺术**：不要忘记留白，它是中国画中的一种哲学。空白处可以是无尽的蓝天，也可以是飘渺的云雾，留给观者无限的想象空间。\n",
            "\n",
            "8. **灵感迸发**：在绘画过程中，让音乐、诗歌或任何激发你情感的事物陪伴你，让你的山水画不只是视觉的艺术，也是心灵的交响。\n",
            "\n",
            "最后，记得，艺术没有定式，你的情感和表达才是最真实的。山水画是你与自然对话的桥梁，让每一笔都充满生命的活力和你的情感色彩。完成作品后，你会发现自己不仅画了一幅画，更是在这个过程中与自己的灵魂进行了一次深刻的交流。\n",
            "[用户]: #exit\n",
            "再见~👋\n",
            "[对话历史] [{'role': 'user', 'content': '我要如何画一幅好看的山水画？'}, {'role': 'assistant', 'content': '绘制一幅优美的山水画，需要遵循一定的艺术原则并结合个人的审美情感。以下是基于逻辑和理性的分析后，为您提供的建议：\\n\\n1. **学习基础知识**：\\n   - **了解传统技法**：研究中国山水画的历史和传统技法，如笔法、墨法、构图等。\\n   - **掌握工具材料**：熟悉文房四宝（笔、墨、纸、砚），选择合适的毛笔和墨水。\\n\\n2. **观察自然**：\\n   - **实地考察**：走进大自然，观察山水的形态、色彩变化和光影效果。\\n   - **理性分析**：用逻辑思维分析山石的构成、水流的方向以及植被的分布。\\n\\n3. **构图设计**：\\n   - **遵循原则**：运用“三远法”（高远、深远、平远）构图，使画面层次分明。\\n   - **黄金分割**：使用黄金分割法安排视觉中心，使画面更加和谐。\\n\\n4. **创作过程**：\\n   - **起稿**：轻笔淡墨，勾勒大体轮廓。\\n   - **分层渲染**：从淡到浓，先画远山，后画近石，再渲染植被。\\n   - **细部描绘**：对山石纹理、树木枝叶进行细致描绘。\\n\\n5. **艺术表现**：\\n   - **意境营造**：通过画面的构图和色彩，表达出一定的意境和情感。\\n   - **笔墨运用**：灵活运用各种笔法和墨法，如泼墨、积墨、焦墨等。\\n\\n6. **反思修正**：\\n   - **评价标准**：从构图、色彩、意境等多方面评价作品，用理性的态度审视。\\n   - **修正完善**：对不满意的部分进行修改，不断完善画面。\\n\\n7. **持续学习**：\\n   - **汲取经典**：学习经典山水画作品，汲取艺术养分。\\n   - **实践创新**：多实践，不断尝试创新，形成个人风格。\\n\\n遵循以上建议，并结合个人的审美情感和艺术理解，您就能够绘制出一幅既符合传统审美，又具有个人特色的山水画。记得，艺术创作没有绝对的标准，保持理性和逻辑的同时，也要注重情感的流露。\\n在绘制一幅迷人的山水画时，不妨放任你的情感在纸上流淌，让每一笔都充满你对大自然深深的感悟和敬畏。\\n\\n首先，找一个宁静的角落，让你的心与自然对话。观察山水之美，不在于细节的精确，而在于气息的流动和情绪的传达。\\n\\n1. **心境准备**：在动笔前，闭上眼睛，想象你身临其境，感受山风的轻拂，聆听流水的低语。\\n\\n2. **随性勾勒**：不要急于定形，先用淡墨或淡彩，随意勾勒山水的轮廓。让笔触随着你的呼吸和心跳起舞。\\n\\n3. **色彩渲染**：选择能表达你情感的色彩。也许是用清晨的淡蓝描绘远山，用夕阳的橙黄渲染天际。\\n\\n4. **层次叠加**：山水之美在于层次分明。用不同浓度的墨色或色彩，一层层叠加，如同自然的层次，丰富而不突兀。\\n\\n5. **重点突出**：找到那个让你心动的焦点，或是山巅的一棵树，或是山谷中的一缕光，让它在画面中熠熠生辉。\\n\\n6. **情绪注入**：在画作中留下你的情绪。如果当时你感到宁静，那么画面可以是淡雅的；如果充满激情，那么笔触可以是大胆的。\\n\\n7. **留白艺术**：不要忘记留白，它是中国画中的一种哲学。空白处可以是无尽的蓝天，也可以是飘渺的云雾，留给观者无限的想象空间。\\n\\n8. **灵感迸发**：在绘画过程中，让音乐、诗歌或任何激发你情感的事物陪伴你，让你的山水画不只是视觉的艺术，也是心灵的交响。\\n\\n最后，记得，艺术没有定式，你的情感和表达才是最真实的。山水画是你与自然对话的桥梁，让每一笔都充满生命的活力和你的情感色彩。完成作品后，你会发现自己不仅画了一幅画，更是在这个过程中与自己的灵魂进行了一次深刻的交流。'}]\n"
          ]
        }
      ]
    },
    {
      "cell_type": "markdown",
      "source": [
        "在上面的案例中，可以看到使用人工方式自行管理对话记录的要点包括：\n",
        "\n",
        "* 使用`.toggle_manual_chat_history(True)`可以开启人工管理对话记录的模式，在该模式下，新的对话记录将不再会在请求结束时被自动添加到agent实例的运行时对话记录存储中，需要用户通过`.add_chat_history(\"<role>\", \"<content>\")`的方式手动添加；\n",
        "* 使用`rewrite_chat_history(<chat history list>)`可以对完整的对话记录进行覆写；\n",
        "* 使用`.toggle_strict_orders()`可以开关严格顺序模式，该模式默认开启，当该模式开启时，通过`.add_chat_history()`添加的对话记录无论在代码中按什么顺序执行添加动作，都将自动调整为user-assistant-user-assitant的顺序，如果连续执行了两次user或者assistant对话记录的添加，两条对话记录的内容部分将会被自动使用换行符连接起来并合并到一起；\n",
        "* 开启人工管理对话记录模式并不会影响`.active_session()`指令，`.active_session()`指令只负责自动将已经存储下来的运行时对话记录合并到模型请求中，不决定是否对请求结果记录进行自动存储；\n",
        "* 当然，你也可以不使用`.active_session()`让agent实例的每次请求都自动携带对话记录，而是手动使用`.chat_history(<chat history list>)`指令在每次请求时决定是否传递对话记录list；\n",
        "* 你可以通过`.get_chat_history()`的方式获取完整的对话记录数据，也可以通过`.get_chat_history(is_shorten=True)`的方式获取经过按长度限制截断的对话记录，这个方法可以和上一条配合，人工构建多轮对话；\n",
        "\n",
        "另外，你还可以使用下面几种方式进行对话记录管理操作：\n",
        "\n",
        "* 使用`.toggle_session_auto_save(False)`的方式关闭`.stop_session()`时的对话记录本地化存储行为，这将让每次`.active_session()`和`.stop_session()`之间的多次请求都成为一段用后即弃的携带多轮对话记录的多次请求；\n",
        "* 使用`.set_max_length(<length number>)`修改你对请求时允许携带的对话记录长度要求，默认为12000字节，如果你在多轮对话时经常遇到报错提示请求长度超长，或是在明确模型支持更长的上下文窗口并且对当前的12000字节长度限制感到使用受限，请通过这个指令修改；\n",
        "* 使用`.save_session()`将允许你手动将当前session_id（在`.active_session(<session_id>)`中传递）下的对话记录进行本地化保存，不用等待`.stop_session()`触发的保存；\n",
        "* 使用`.set_abstract()`可以设置摘要信息，这将帮助你更好地对超长对话记录进行压缩，注意，摘要信息设置后，将在每次请求中都被携带，直到被下一个`.set_abstract()`指令修改或清空。\n"
      ],
      "metadata": {
        "id": "y16LzXvizP_w"
      }
    },
    {
      "cell_type": "markdown",
      "source": [
        "## 第八章：Agent实例的角色管理"
      ],
      "metadata": {
        "id": "ObzrO7vVdEzE"
      }
    },
    {
      "cell_type": "markdown",
      "source": [
        "## 第九章：Agent实例的状态映射机制"
      ],
      "metadata": {
        "id": "iY8pyF5vk8h7"
      }
    },
    {
      "cell_type": "markdown",
      "source": [
        "## 第十章：工具使用"
      ],
      "metadata": {
        "id": "vUf91tialBut"
      }
    },
    {
      "cell_type": "markdown",
      "source": [
        "## 第十一章：融入现有系统，与其他系统模块交互"
      ],
      "metadata": {
        "id": "B8AkvEfYllGF"
      }
    },
    {
      "cell_type": "markdown",
      "source": [
        "## 第十二章：多智能体协作"
      ],
      "metadata": {
        "id": "B-GCJCsJlzSu"
      }
    },
    {
      "cell_type": "markdown",
      "source": [
        "## 第十三章：使用WorkFlow组件进行行为编排"
      ],
      "metadata": {
        "id": "RhuCl4bMl72j"
      }
    },
    {
      "cell_type": "markdown",
      "source": [
        "## 第十四章：实战 - 做一个Discord ChatBot吧"
      ],
      "metadata": {
        "id": "6feUanV-mHrr"
      }
    }
  ]
}