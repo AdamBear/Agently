{
  "nbformat": 4,
  "nbformat_minor": 0,
  "metadata": {
    "colab": {
      "provenance": [],
      "toc_visible": true,
      "authorship_tag": "ABX9TyMwozr1z6mPvWd+YNvXcYtp",
      "include_colab_link": true
    },
    "kernelspec": {
      "name": "python3",
      "display_name": "Python 3"
    },
    "language_info": {
      "name": "python"
    }
  },
  "cells": [
    {
      "cell_type": "markdown",
      "metadata": {
        "id": "view-in-github",
        "colab_type": "text"
      },
      "source": [
        "<a href=\"https://colab.research.google.com/github/Maplemx/Agently/blob/main/docs/guidebook/Agently_step_by_step_guide.ipynb\" target=\"_parent\"><img src=\"https://colab.research.google.com/assets/colab-badge.svg\" alt=\"Open In Colab\"/></a>"
      ]
    },
    {
      "cell_type": "markdown",
      "source": [
        "# **_<font color = \"red\">Agent</font><font color = \"blue\">ly</font>_ AI应用开发框架由浅入深的应用开发指导**\n",
        "\n",
        "**Getting Started with _<font color = \"red\">Agent</font><font color = \"blue\">ly</font>_: A Step-by-Step Guide for Developers**"
      ],
      "metadata": {
        "id": "TMP1Pn9g65hF"
      }
    },
    {
      "cell_type": "markdown",
      "source": [
        "## 第一章：框架介绍\n",
        "\n",
        "**<font color = \"red\">Agent</font><font color = \"blue\">ly</font> AI应用开发框架**是一个开源的AI Agent原生应用开发框架，Github仓库主页：[https://github.com/Maplemx/Agently](https://github.com/Maplemx/Agently)\n",
        "\n",
        "您也可以通过我们的官方网址[Agently.cn](http://Agently.cn)或是[Agently.tech](http://Agently.tech)进行访问。\n",
        "\n",
        "**<font color = \"red\">Agent</font><font color = \"blue\">ly</font> 框架**具有如下特点：\n",
        "\n",
        "- **🚀 快速开始**：只需要很少的几行代码，就可以开始创建你的大语言模型驱动的应用；\n",
        "- **💬 表达轻松**：框架特有的面向agent对象设计，结合链式表达、代码变量直接输入、结构化数据输出等特性，能够帮助你轻松快速地将自己的业务代码和框架生成的agent对象实例操作进行结合；\n",
        "- **🧩 插件增强**：框架采用了插件式增强的设计，并在持续更新新的插件，你可以通过插件获得对更多模型的适配、agent请求过程监听、自定义工具注册和调用、多轮对话记录自动存储、角色管理、agent状态管理和行为修正映射等各式各样的能力，如果你有更多新的能力构思，也可以创建自己的自定义插件对agent能力进行增量更新，而不是重新开发整个agent；\n",
        "- **🔓 开源开放**：我们是一个开源项目，框架源码透明可见，并且非常欢迎开发者加入我们的开源社群，找到自己的定位和角色，开发应用、更新插件或是优化框架核心代码，共同讨论框架未来的发展。\n",
        "\n",
        "### 相关资源\n",
        "\n",
        "除了这份《由浅入深的应用开发指导》外，我们的Github仓库主页中还有更多相关文档，大部分文档都使用了Jupyter格式，并且支持一键导入Google Colab进行在线试用。\n",
        "\n",
        "**说明文档：**\n",
        "\n",
        "- [Agently 3.0 框架概念介绍](https://github.com/Maplemx/Agently/blob/main/docs/guidebook/introduction.ipynb)\n",
        "- [Agently 3.0 应用开发功能说明文档](https://github.com/Maplemx/Agently/blob/main/docs/guidebook/application_development_handbook.ipynb)\n",
        "\n",
        "**案例广场：**\n",
        "\n",
        "构建不同领域的Agent示例：\n",
        "\n",
        "- [根据自然语言生成SQL的提数小帮手Agent](https://github.com/Maplemx/Agently/blob/main/playground/sql_generator.ipynb)\n",
        "- [根据问卷进行反馈收集的问卷调查Agent](https://github.com/Maplemx/Agently/blob/main/playground/survey_agent_asks_questions_according_form.ipynb)\n",
        "- [自带搜索技能的少儿教师Agent](https://github.com/Maplemx/Agently/blob/main/playground/teacher_with_search_ability_for_kids.ipynb)\n",
        "- [根据图片以及文案样例生成广告文案的营销Agent](https://github.com/Maplemx/Agently/blob/main/playground/writing_ad_copies_according_image.ipynb)\n",
        "- [根据用户简单输入，自动创建人设，并能够在多个状态间切换的角色扮演Agent](https://github.com/Maplemx/Agently/blob/main/playground/character_change_behaviours_according_mood_status.ipynb)\n",
        "- [能够使用工具（框架内置工具或自定义工具）的Agent](https://github.com/Maplemx/Agently/blob/main/playground/using_tools_to_enhance_your_agent.ipynb)\n",
        "- [在游戏场景中为NPC提供行动选项和演出台词的Agent](https://github.com/Maplemx/Agently/blob/main/playground/NPC_in_game_generate_choices_using_google_gemini.ipynb)\n",
        "- [通过接待Agent引导用户和自己具有权限的职能Agent互动](https://github.com/Maplemx/Agently/blob/main/playground/routing_to_different_agent_group_for_users_with_different_authorities.ipynb)\n",
        "\n",
        "在代码逻辑中寻求Agent的支持：\n",
        "\n",
        "- [基于长文本，生成与文本内容相关的问答对](https://github.com/Maplemx/Agently/blob/main/playground/long_text_to_qa_pairs.ipynb)\n",
        "- [在回复用户前，对Agent回复进行人工介入检查](https://github.com/Maplemx/Agently/blob/main/playground/human_step_in_before_reply.ipynb)\n",
        "- [在多个头尾文本对里寻找可连接的文本对](https://github.com/Maplemx/Agently/blob/main/playground/finding_connectable_pairs_from_text_tailers_and_headers.ipynb)\n",
        "- [配合AsyncIO使用异步编程，实现串行依赖和并发请求编排](https://github.com/Maplemx/Agently/blob/main/playground/concurrency_and_asynchornous_dependency.ipynb)\n",
        "- [使用函数装饰器，让Agent帮你完成仅有注释的函数指定的任务](https://github.com/Maplemx/Agently/blob/main/playground/generate_agent_powered_function_in_runtime_using_decorator.ipynb)\n",
        "\n",
        "更多案例持续更新，访问我们的[Playground案例广场](https://github.com/Maplemx/Agently/tree/main/playground)即可查看"
      ],
      "metadata": {
        "id": "5Nc1Awu77uKj"
      }
    },
    {
      "cell_type": "markdown",
      "source": [
        "## 第二章：安装并快速熟悉框架的基本特性"
      ],
      "metadata": {
        "id": "2iawexPDff1r"
      }
    },
    {
      "cell_type": "markdown",
      "source": [
        "### 安装准备\n",
        "\n",
        "本地环境下，您只需要在shell中输入`pip install -U Agently`即可完成安装\n",
        "\n",
        "如果您使用Jupyter或是Colab，可以直接通过运行下面的代码块进行安装："
      ],
      "metadata": {
        "id": "KsBchKQp0zNc"
      }
    },
    {
      "cell_type": "code",
      "source": [
        "!pip install -U Agently"
      ],
      "metadata": {
        "id": "R2D6GmAOgNHT"
      },
      "execution_count": null,
      "outputs": []
    },
    {
      "cell_type": "markdown",
      "source": [
        "### 快速熟悉框架的基本特性"
      ],
      "metadata": {
        "id": "WUM8TjWxgne0"
      }
    },
    {
      "cell_type": "markdown",
      "source": [
        "**配置并创建Agent实例**"
      ],
      "metadata": {
        "id": "HQvJ4DYfjFLA"
      }
    },
    {
      "cell_type": "code",
      "source": [
        "import Agently\n",
        "\n",
        "# 创建一个Agent工厂实例\n",
        "agent_factory = (\n",
        "    Agently.AgentFactory()\n",
        "        # 给Agent工厂实例提供设置项：\n",
        "        ## 将默认模型系列设置为智谱系列\n",
        "        .set_settings(\"current_model\", \"ZhipuAI\")\n",
        "        ## 提供你的智谱线上模型API-KEY\n",
        "        .set_settings(\"model.ZhipuAI.auth\", { \"api_key\": \"\" })\n",
        "        ## 模型默认为GLM-4，如果想要指定为GLM-3-turbo可以解除下面代码的注释\n",
        "        #.set_settings(\"model.ZhipuAI.options\", { \"model\": \"glm-3-turbo\" })\n",
        ")\n",
        "\n",
        "# 从Agent工厂实例中创建Agent实例\n",
        "## 你可以创建很多个Agent实例，它们都会继承Agent工厂的设置项\n",
        "## 也就是说，你不需要再为每一个Agent实例指定模型、输入授权\n",
        "agent = agent_factory.create_agent()\n",
        "\n",
        "## 当然，你也可以为特定的Agent实例指定它独特的配置项\n",
        "## 例如，我们让下面这个agent使用GLM-3-turbo模型进行驱动\n",
        "agent_GLM_3 = (\n",
        "    agent_factory.create_agent()\n",
        "        .set_settings(\"model.ZhipuAI.options\", { \"model\": \"glm-3-turbo\" })\n",
        ")"
      ],
      "metadata": {
        "id": "pT36TUuSgvF2"
      },
      "execution_count": 6,
      "outputs": []
    },
    {
      "cell_type": "markdown",
      "source": [
        "**开始使用Agent实例吧**"
      ],
      "metadata": {
        "id": "RmfdzPIUjJ4g"
      }
    },
    {
      "cell_type": "code",
      "source": [
        "result = (\n",
        "    agent\n",
        "        # 支持str格式输入\n",
        "        .input(\"给我输出3个单词和2个句子\")\n",
        "        # 支持K-V式参数输入\n",
        "        .instruct(\"输出语言\", \"中文\")\n",
        "        # 支持dict格式输入\n",
        "        # 并且通过框架特有的(<type>, <desc，可省略>)语法格式描述生成元素\n",
        "        .output({\n",
        "            \"单词\": [(\"str\", )],\n",
        "            \"句子\": (\"list\", ),\n",
        "        })\n",
        "        .start()\n",
        ")\n",
        "print(result)"
      ],
      "metadata": {
        "colab": {
          "base_uri": "https://localhost:8080/"
        },
        "id": "etOSfHPXjUky",
        "outputId": "c9996f89-08ae-4e75-b0b8-73504e54d841"
      },
      "execution_count": 7,
      "outputs": [
        {
          "output_type": "stream",
          "name": "stdout",
          "text": [
            "{'单词': ['苹果', '电脑', '学习'], '句子': ['我喜欢吃苹果。', '他用电脑工作。']}\n"
          ]
        }
      ]
    },
    {
      "cell_type": "markdown",
      "source": [
        "**常见问题**\n",
        "\n",
        "**1. 只能使用一种模型吗？**\n",
        "\n",
        "当然不是，你可以通过阅读[开发功能说明文档](https://github.com/Maplemx/Agently/blob/main/docs/guidebook/application_development_handbook.ipynb)的《Model Request》章节查看目前框架已经适配的模型，并按说明进行配置。你可以放心切换模型，而不用担心已经使用框架表达方式写好的业务流程代码，框架已经帮助你做好了业务流程代码和模型适配之间的依赖解耦。\n",
        "\n",
        "**2. 我的应用只需要使用一个Agent实例，还需要使用Agent Factory这么复杂的创建方式吗？**\n",
        "\n",
        "Agent工厂这种设计模式主要是为了方便将配置信息传递给所有由工厂创建的Agent实例，如果你确定只需要使用一个Agent实例，下面这种创建方式会是一种更简单的方案："
      ],
      "metadata": {
        "id": "oILlxlxK0ZTM"
      }
    },
    {
      "cell_type": "code",
      "source": [
        "import Agently\n",
        "\n",
        "agent = (\n",
        "    Agently.create_agent()\n",
        "        .set_settings(\"current_model\", \"ZhipuAI\")\n",
        "        .set_settings(\"model.ZhipuAI.auth\", { \"api_key\": \"\" })\n",
        ")"
      ],
      "metadata": {
        "id": "r43ByCeF4RVx"
      },
      "execution_count": null,
      "outputs": []
    },
    {
      "cell_type": "markdown",
      "source": [
        "**3. Agent实例上只有.input()，.instruct()，.output()这么简单的几个操作指令吗？**\n",
        "\n",
        "当然不止，上面的案例只是展示了最基本的交互指令，但它已经能够说明框架的基本特性：`你可以在代码中创建agent对象实例，并像请求函数一样和它交互`。\n",
        "\n",
        "接下来我们会在本文档中逐步介绍更多好玩的特性和用法。\n",
        "\n",
        "如果你非常好奇Agent实例上到底有多少可操作的指令，可以尝试运行下面的代码块得到答案："
      ],
      "metadata": {
        "id": "Z3Ekso2w4V1m"
      }
    },
    {
      "cell_type": "code",
      "source": [
        "agent.alias_manager.print_alias_info()"
      ],
      "metadata": {
        "id": "fFAe57Uy3yzi"
      },
      "execution_count": null,
      "outputs": []
    },
    {
      "cell_type": "markdown",
      "source": [
        "并且，这些指令可以随着Agent能力组件插件的添加而持续增加，让你的Agent实例变得更加强大。"
      ],
      "metadata": {
        "id": "ZrJqAU5o4OgE"
      }
    },
    {
      "cell_type": "markdown",
      "source": [
        "## 第三章：Agent实例的基础请求方法\n",
        "\n",
        "和某些Agent框架不同，Agently框架提供的Agent实例在创建时并不会限定Agent实例的工作目标，要让Agent进行规划（Planning）、行动（Action）还是批判性思考（Critical Thinking），都是由开发者决定的。\n",
        "\n",
        "Agently框架将Agent实例与模型进行的一次主要请求交互`见注1`视作一个原子节点，通过.start()命令触发。通过将多个原子节点串联，要如何让Agent实例行动起来，这就看开发者如何对Agent实例发起请求指令了。\n",
        "\n",
        "> `注1:之所以使用“主要请求交互”这种说法，是因为在某些请求交互过程中，会触发对模型的前置请求，例如工具使用时，在对输入进行正式回复前，会通过模型进行工具使用规划和使用参数生成，并将工具生成结果结合到正式回复请求中，在这种情况下，“主要请求交互”并不等于“只对模型进行一次请求”。`"
      ],
      "metadata": {
        "id": "aXagn0eX4nP_"
      }
    },
    {
      "cell_type": "markdown",
      "source": [
        "### 基础请求方法代码样例\n",
        "\n",
        "在进一步解释相关概念前，我们先来看下面的代码样例："
      ],
      "metadata": {
        "id": "SojjLhyC8Qzr"
      }
    },
    {
      "cell_type": "code",
      "source": [
        "result = (\n",
        "    agent\n",
        "        # general: agent应该知道的全局信息，通常被视作system prompt或类似位置的信息\n",
        "        .general(\"输出规定\", \"必须使用中文进行输出\")\n",
        "        # role: agent自身的角色设定信息\n",
        "        .role({\n",
        "            \"姓名\": \"Agently小助手\",\n",
        "            \"任务\": \"使用自己的知识为用户解答常见问题\",\n",
        "        })\n",
        "        # user_info: agent需要了解的用户相关的信息\n",
        "        .user_info(\"和你对话的用户是一个只具有Python编程基础知识的入门初学者\")\n",
        "        # abstract: 对于之前对话（尤其是较长对话）的总结信息\n",
        "        .abstract(None)\n",
        "        # chat_history: 按照OpenAI消息列格式的对话记录list\n",
        "        ## 支持:\n",
        "        ## [{ \"role\": \"system\", \"content\": \"\" },\n",
        "        ##  { \"role\": \"assistant\", \"content\": \"\" },\n",
        "        ##  { \"role\": \"user\", \"content\": \"\" }]\n",
        "        ## 三种角色\n",
        "        .chat_history([])\n",
        "        # input: 和本次请求相关的输入信息\n",
        "        .input({\n",
        "            \"question\": \"请问Python中协程和线程的关系和区别是什么？\",\n",
        "            \"reply_style_expect\": \"请用对编程概念零基础的人能理解的方式进行回复\"\n",
        "        })\n",
        "        # info: 为本次请求提供的额外补充信息\n",
        "        .info(\"协程相关关键词\", [\"asyncio\", \"coroutine\", \"event loop\"])\n",
        "        .info(\"线程相关关键词\", [\"threads\", \"queue\"])\n",
        "        # instruct: 为本次请求提供的行动指导信息\n",
        "        .instruct([\n",
        "            \"请使用{reply_style_expect}的回复风格，回复{question}提出的问题\",\n",
        "        ])\n",
        "        # output: 对本次请求的输出提出格式和内容的要求\n",
        "        .output({\n",
        "            \"reply\": (\"str\", \"对{question}的直接回复\"),\n",
        "            \"next_questions\": ([\n",
        "                (\"str\",\n",
        "                 \"根据{reply}内容，结合{user_info}提供的用户信息，\" +\n",
        "                 \"给用户推荐的可以进一步提问的问题\"\n",
        "                )], \"不少于3个\"),\n",
        "        })\n",
        "        # start: 用于开始本次主要交互请求\n",
        "        .start()\n",
        ")\n",
        "print(result)"
      ],
      "metadata": {
        "colab": {
          "base_uri": "https://localhost:8080/"
        },
        "id": "dD3JCLSl8KDn",
        "outputId": "57bc64cd-98af-401f-b742-cf579cdca0c0"
      },
      "execution_count": 8,
      "outputs": [
        {
          "output_type": "stream",
          "name": "stdout",
          "text": [
            "{'reply': '在Python中，协程和线程都是用来实现多任务的方法，但它们有一些关键的不同。想象你正在组织一场多人篮球赛，线程就像是一个个球员，他们可以同时上场打球，但是一次只能有一个球员控制球。协程更像是一种传球策略，球员们可以快速传递球，而且传球的过程中其他球员也可以做其他动作，这样就能更高效地利用球场。\\n\\n   - 线程是由操作系统管理的，就像球员需要依赖场上的规则一样。每个线程都是一个独立的执行流程，但是线程的创建和上下文切换开销相对较大。\\n   - 协程是Python编写者在代码层面上控制的，就像是球员之间商量好的传球策略。协程可以在单个线程内被挂起和恢复，并且由asyncio库的事件循环来调度，这样可以减少线程切换的开销。\\n\\n主要的区别包括：\\n   - 线程是并行执行的，协程是协作式多任务。\\n   - 线程有更重的资源开销，协程更轻量级。\\n   - 线程受到GIL（全局解释器锁）的限制，协程可以通过事件循环更好地利用单核CPU。\\n\\n那么，接下来你可能对这些话题感兴趣：\\n   1. 什么是asyncio和事件循环？\\n   2. 如何在Python中创建和使用协程？\\n   3. Python的全局解释器锁（GIL）是什么，它对多线程有什么影响？\\n   4. 在实际项目中，我应该使用线程还是协程呢？', 'next_questions': ['我能举一个使用协程的简单例子吗？', 'Python中的async和await关键字是如何工作的？', '如果我想深入了解线程，有哪些好的学习资源或实践项目推荐？']}\n"
          ]
        }
      ]
    },
    {
      "cell_type": "markdown",
      "source": [
        "### 基础请求指令列表\n",
        "\n",
        "- `.general()`: agent应该知道的全局信息，通常被视作system prompt或类似位置的信息\n",
        "- `.role()`: agent自身的角色设定信息\n",
        "- `.user_info()`: agent需要了解的用户相关的信息\n",
        "- `.abstract()`: 对于之前对话（尤其是较长对话）的总结信息\n",
        "- `.chat_history()`: 按照OpenAI消息列格式的对话记录list\n",
        "- `.input()`: 和本次请求相关的输入信息\n",
        "- `.info()`: 为本次请求提供的额外补充信息\n",
        "- `.instruct()`: 为本次请求提供的行动指导信息\n",
        "- `.output()`: 对本次请求的输出提出格式和内容的要求\n",
        "- `.start()`: 开始本次主要交互请求"
      ],
      "metadata": {
        "id": "lQ0lUpQdBTqc"
      }
    },
    {
      "cell_type": "markdown",
      "source": [
        "### 基础请求指令用法\n",
        "\n",
        "1. **并不是每次请求都需要把所有指令都用上**，按你需要的选择指令即可，`agent.input().start()`是最简单的请求方案，使用这种方案和自行构造prompt请求模型的效果是一样的；\n",
        "2. 除了`.chat_history()`指令必须传递消息列list，`.start()`通常不传递值之外，**其他指令可以接受几乎任何一种常见格式的数据**，如str, bool, int, float, dict, list, set等；\n",
        "3. 如果想要对某一类指令传递多个信息，可以使用**Key-Value方式**进行传递，如上面例子中的`.info()`部分，也可以通过**list方式**传入多条信息，如上面例子中的`.instruct()`部分；\n",
        "4. `.output()`指令如果**传入str字符串，会正常返回一段字符串**，如果**传入dict字典或是list列表，则可以使用Agently框架提供的结构表达语法格式进行表达，获得对应结构的生成结果**，详见下一小节。"
      ],
      "metadata": {
        "id": "V1vfOSn6DcCx"
      }
    },
    {
      "cell_type": "markdown",
      "source": [
        "### 使用Output输出结构表达语法格式\n",
        "\n",
        "在代码开发过程中，我们往往需要使用结构化的数据而非自然松散的字符串文本来进行信息存储和传递。这类结构化的数据往往还不是只有一个层级的简单字典(dict)或是只存放一些字符串的列表(list)，而是一种更加复杂综合的结构。\n",
        "\n",
        "例如，在上面的例子中，我们获得的结果是这样的：\n",
        "\n",
        "```python\n",
        "{ 'reply': '在Python中...',\n",
        "  'next_questions': [\n",
        "      '我能举一个使用协程的简单例子吗？',\n",
        "      'Python中的async和await关键字是如何工作的？',\n",
        "      '如果我想深入了解线程，有哪些好的学习资源或实践项目推荐？'\n",
        "  ],\n",
        "}\n",
        "```\n",
        "这是一个复杂的字典结构，通过Output输出结构表达语法，我们可以直接从请求中使用`result = agent....start()`变量赋值的方式回收这个字典结果，并且用`result[\"reply\"]`等方式直接使用字典中的字段值。\n",
        "\n",
        "要实现这样的输出效果，我们需要让模型理解，在生成结果的时候，我们需要得到一个具有两个字段的字典结果。其中在`reply`字段中，我们需要得到一个长文本字符串，用于存放对用户问题的回复答案。同时，在`next_questions`字段中，我们需要得到一个列表，用于存放针对本次问答可以进一步提出的问题清单，且我们希望这个问题清单里的问题不要少于3个。\n",
        "\n",
        "那么我们在使用Agently框架的Output输出结构表达语法时，应该如何思考呢？\n",
        "\n",
        "首先，**确定期望输出的数据结构**：\n",
        "\n",
        "按照上面的描述，我们期望得到的数据结构如下：\n",
        "\n",
        "```python\n",
        "{\n",
        "    \"reply\": str,\n",
        "    \"next_questions\": [str]\n",
        "}\n",
        "```\n",
        "\n",
        "如果我们将`str`、`int`、`bool`、`float`等类型的数值看作输出中的带有具体内容的值节点，那么上面这个结构则表达了我们希望输出的结构特征。\n",
        "\n",
        "接下来，我们使用**输出结构表达语法中元组(tuple)的特殊用法**来表达对值节点的输出期望：\n",
        "\n",
        "因为在输出的数据中，我们几乎不会用到元组(tuple)这种数据结构，因此Agently框架赋予了元组新的含义：**通过`(\"<类型描述>\", \"<输出内容期望>\")`的格式，描述对具体内容的值节点的输出期望**。\n",
        "\n",
        "例如，我们希望在`reply`节点中获得对本次提问的直接回复，我们就可以做如下表达：\n",
        "\n",
        "```python\n",
        "# (\"<类型描述>\", \"<输出内容期望>\")\n",
        "(\"str\", \"对本次提问的直接回复\")\n",
        "```\n",
        "\n",
        "如果我们希望做更明确的信息指向，比如希望对“本次提问”到底指的是哪部分信息做出明确指向，我们可以使用`{}`进行指向标注，如果我们希望明确表达这个具体的信息是从哪部分信息块中来的，可以使用`{信息块.具体字段名}`的方式进行表达：\n",
        "\n",
        "```python\n",
        "(\"str\", \"对{input.question}的直接回复\")\n",
        "```\n",
        "\n",
        "可能也有人注意到，有时候我们需要对list结构做一些额外的说明，比如约定list结构中输出的结果的数量，我们也可以将结构嵌入元组表达中，例如：\n",
        "\n",
        "```python\n",
        "([], \"最少输出3个结果\")\n",
        "```\n",
        "\n",
        "而在元组中的结构，还可以继续嵌入元组表达：\n",
        "\n",
        "```python\n",
        "([(\"str\", \"根据{reply}可以进一步提出的问题\")], \"最少输出3个结果\")\n",
        "```\n",
        "\n",
        "最后，**整合上面两步，形成完整的输出结构表达，并放入.output()请求中**：\n",
        "\n",
        "```python\n",
        ".output({\n",
        "    \"reply\": (\"str\", \"对{input.question}的直接回复\"),\n",
        "    \"next_questions\": (\n",
        "        [ (\"str\", \"根据{reply}可以进一步提出的问题\") ],\n",
        "        \"最少输出3个结果\"\n",
        "    ),\n",
        "})\n",
        "```"
      ],
      "metadata": {
        "id": "cFi7tB1rE3uK"
      }
    },
    {
      "cell_type": "markdown",
      "source": [
        "## 第四章：基于基础请求方法的高级Prompt构造技巧"
      ],
      "metadata": {
        "id": "txzg9oYSMvxf"
      }
    },
    {
      "cell_type": "markdown",
      "source": [
        "### 基于Transformer前置生成影响后续生成的特性，构造思维链\n",
        "\n",
        "众所周知，基于Transformer的模型在生成下一个输出块时，会使用所有的输入提示信息加上已经生成的输出块内容作为计算依据。正是基于这样的特性，使得我们通过合理构造输出顺序，通过前几步生成的内容提示下一步生成的内容成为可能。通过这种构造方法，我们可以实现行动流提示、分支逻辑判断、自我批判修正、确保关键信息纯净度等好玩的高级技巧。"
      ],
      "metadata": {
        "id": "a7T4rSE5NU47"
      }
    },
    {
      "cell_type": "markdown",
      "source": [
        "#### 行动流提示"
      ],
      "metadata": {
        "id": "C5mElH7qQIMN"
      }
    },
    {
      "cell_type": "code",
      "source": [
        "result = (\n",
        "    agent\n",
        "        .input(\"我在哪里可以了解黑暗之魂3和GTA6的发售日期，并完成购买或者预购？\")\n",
        "        .output({\n",
        "            \"info_list\": [\n",
        "                {\n",
        "                    \"知识对象\": (\"str\", \"回答{input}问题时，需要了解相关知识的具体对象\"),\n",
        "                    \"关键知识点\": (\"str\", \"回答{input}问题时，需要了解的关键知识\"),\n",
        "                    \"是否了解\": (\"bool\", \"判断你是否确信自己了解{关键知识点}的知识，如果不了解，输出false\")\n",
        "                }\n",
        "            ],\n",
        "            \"sure_info\": (\"str\", \"根据{info_list}给出回复，只展开详细陈述自己了解的关键知识点\"),\n",
        "            \"uncertain\": (\"str\", \"根据{info_list}向用户说明自己不了解的信息\"),\n",
        "        })\n",
        "        .start()\n",
        ")\n",
        "print(result)"
      ],
      "metadata": {
        "colab": {
          "base_uri": "https://localhost:8080/"
        },
        "id": "iwtsKWiNQePe",
        "outputId": "d915bc14-1657-4dc3-8b98-4ab3e04d0d39"
      },
      "execution_count": 15,
      "outputs": [
        {
          "output_type": "stream",
          "name": "stdout",
          "text": [
            "{'info_list': [{'知识对象': '黑暗之魂3', '关键知识点': '发售日期', '是否了解': True}, {'知识对象': 'GTA6', '关键知识点': '发售日期', '是否了解': False}, {'知识对象': '黑暗之魂3', '关键知识点': '购买或预购方式', '是否了解': True}, {'知识对象': 'GTA6', '关键知识点': '购买或预购方式', '是否了解': False}], 'sure_info': '黑暗之魂3（Dark Souls III）已经在2016年3月24日发售。您可以通过各大游戏平台如Steam、PlayStation Store、Xbox Live等进行购买或查询是否还有预购选项。', 'uncertain': '至于GTA6（Grand Theft Auto VI）的发售日期和购买方式，目前我没有确切的信息。通常，此类信息会在游戏官方渠道或开发商Rockstar Games的官方公告中发布，建议您关注相关动态以获取最新消息。'}\n"
          ]
        }
      ]
    },
    {
      "cell_type": "markdown",
      "source": [
        "#### 分支逻辑判断"
      ],
      "metadata": {
        "id": "LbndUU1aQOH4"
      }
    },
    {
      "cell_type": "code",
      "source": [
        "result = (\n",
        "    agent\n",
        "        .input(\"帮我查一个新闻\")\n",
        "        .output({\n",
        "            \"is_info_complete\": (\"bool\", \"判断{input}提供的信息是否完整齐备，能够被执行\"),\n",
        "            \"question\": (\"str\", \"如果{is_info_complete}==false，输出你想要询问的问题，否则输出null\"),\n",
        "            \"reply\": (\"str\", \"如果{is_info_complete}==true，输出你的回答，否则输出null\"),\n",
        "        })\n",
        "        .start()\n",
        ")\n",
        "print(result)"
      ],
      "metadata": {
        "colab": {
          "base_uri": "https://localhost:8080/"
        },
        "id": "sN9wGgPodxfs",
        "outputId": "543fdb31-13a8-4814-af4c-2ea18a3ec268"
      },
      "execution_count": 18,
      "outputs": [
        {
          "output_type": "stream",
          "name": "stdout",
          "text": [
            "{'is_info_complete': False, 'question': '请告诉我您想查询的具体新闻内容或关键词。', 'reply': None}\n"
          ]
        }
      ]
    },
    {
      "cell_type": "markdown",
      "source": [
        "#### 自我批判修正"
      ],
      "metadata": {
        "id": "y2l2ftDVQP4e"
      }
    },
    {
      "cell_type": "code",
      "source": [
        "result = (\n",
        "    agent\n",
        "        .input({\n",
        "            \"target\": \"进入被巨石封堵的洞穴\",\n",
        "            \"items\": [\"勺子\", \"筷子\"],\n",
        "        })\n",
        "        .output({\n",
        "            \"action\": (\"str\", \"用最大胆的方式给出利用{items}完成{target}的方法\"),\n",
        "            \"can_do\": (\"bool\", \"请用常识判断{action}的可行性\"),\n",
        "            \"can_do_explain\": (\"str\", \"如果{can_do}==false,给出你的判断理由\"),\n",
        "            \"fixed_action\": (\n",
        "                \"str\",\n",
        "                \"如果{can_do}==false,结合{can_do_explain}和{items}\" +\n",
        "                \"重新思考完成{target}的方法\"\n",
        "            )\n",
        "        })\n",
        "        .start()\n",
        ")\n",
        "print(result)"
      ],
      "metadata": {
        "colab": {
          "base_uri": "https://localhost:8080/"
        },
        "id": "oCtQUqOBemVI",
        "outputId": "f700b16a-025f-490e-dd8a-9d34c8614582"
      },
      "execution_count": 20,
      "outputs": [
        {
          "output_type": "stream",
          "name": "stdout",
          "text": [
            "{'action': '使用勺子和筷子撬动巨石，清除洞穴入口的障碍。', 'can_do': False, 'can_do_explain': '勺子和筷子作为工具，其强度和尺寸都不足以撬动巨石。', 'fixed_action': '尝试使用勺子和筷子挖掘巨石周围的土壤或小石块，寻找可能的缝隙或空洞，从而逐步扩大洞穴入口的空间，或者收集可燃烧的物质制作简易火堆，用烟雾逼迫洞穴内的空气流动，以寻找其他未被堵塞的通道。'}\n"
          ]
        }
      ]
    },
    {
      "cell_type": "markdown",
      "source": [
        "#### 确保关键信息纯净度\n",
        "\n",
        "有时候，我们直接请求模型生成一些关键结果（比如代码、翻译结果）时，会遇到模型话痨的情况，无论我们怎么说明不要做额外的解释说明，模型依然“热情”地希望帮助我们更好地理解它的答案，输出额外信息。\n",
        "\n",
        "通过构造结构化输出，我们可以让模型把额外的输出信息放到其他位置，从而确保指定位置的信息的纯净度。"
      ],
      "metadata": {
        "id": "RtaGtx8SR5e7"
      }
    },
    {
      "cell_type": "code",
      "source": [
        "result = (\n",
        "    agent\n",
        "        .input(\"翻译：PROMPT for Language Models\")\n",
        "        .instruct(\"目标语言：中文\")\n",
        "        .output({\n",
        "            \"translation\": (\"str\", \"对翻译目标的翻译结果\"),\n",
        "            \"explanation\": (\"str\", \"对翻译内容的补充说明\"),\n",
        "            \"examples\": [(\"str\", \"使用{translation}内容造句\")],\n",
        "        })\n",
        "        .start()\n",
        ")\n",
        "print(result)"
      ],
      "metadata": {
        "colab": {
          "base_uri": "https://localhost:8080/"
        },
        "id": "L1NvXLuzfrbC",
        "outputId": "3a6af078-2afe-42fb-cbab-b1c25a947669"
      },
      "execution_count": 25,
      "outputs": [
        {
          "output_type": "stream",
          "name": "stdout",
          "text": [
            "{'translation': '语言模型的提示', 'explanation': 'PROMPT 在此上下文中指的是为语言模型提供输入或指令的简短文字，以便模型可以根据这些提示生成相应的文本或完成特定的任务。', 'examples': ['在为聊天机器人编写脚本时，我需要设计一些有效的提示来引导语言模型生成合适的回答。', '通过设置不同的提示，我能够探索语言模型在诗歌创作和故事编写方面的多样性。', '提示可以帮助语言模型在处理用户查询时更准确地理解用户的意图。']}\n"
          ]
        }
      ]
    }
  ]
}